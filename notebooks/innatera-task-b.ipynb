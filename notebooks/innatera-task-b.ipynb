{
 "cells": [
  {
   "cell_type": "markdown",
   "id": "074e24f9-a286-43cd-965b-1c41044ee99b",
   "metadata": {},
   "source": [
    "# LSTM for Spoken Digit Classification\n",
    "\n",
    "This notebook builds and trains a recurrent neural network (LSTM) to classify spoken digits (0–9) from audio recordings.\n",
    "\n",
    "- Dataset: [Free Spoken Digit Dataset (FSDD)](https://github.com/Jakobovski/free-spoken-digit-dataset)\n",
    "- Framework: PyTorch\n",
    "- Architecture: RNN with LSTM layers"
   ]
  },
  {
   "cell_type": "code",
   "execution_count": 162,
   "id": "ac121864-dea8-4206-b0d1-1acbdc0002dc",
   "metadata": {},
   "outputs": [],
   "source": [
    "import sys\n",
    "import os\n",
    "\n",
    "# Add the project root (parent of current folder) to Python path\n",
    "project_root_dir = os.path.abspath(os.path.join(os.getcwd(), '..'))\n",
    "sys.path.append(project_root_dir)\n"
   ]
  },
  {
   "cell_type": "markdown",
   "id": "a907bf1a-f498-4c4b-941a-1ec9859a6dbc",
   "metadata": {},
   "source": [
    "## Load Model Configuration from YAML\n",
    "\n",
    "To make the training pipeline configurable and modular, we store model parameters like number of LSTM layers, hidden size, and learning rate etc in a YAML file. This structure enables quick adaptation to related tasks B, and C.\n",
    "\n",
    "This section loads the model configuration using a custom utility function."
   ]
  },
  {
   "cell_type": "code",
   "execution_count": 163,
   "id": "fc007882-2f6c-4e2e-9a19-18eb3a3dd549",
   "metadata": {},
   "outputs": [],
   "source": [
    "import src.utils as utils"
   ]
  },
  {
   "cell_type": "code",
   "execution_count": 164,
   "id": "f5efd2eb-0415-43c9-ba38-492a135899d5",
   "metadata": {},
   "outputs": [
    {
     "name": "stdout",
     "output_type": "stream",
     "text": [
      "[INFO] Random seed set to: 42\n"
     ]
    }
   ],
   "source": [
    "utils.set_seed(42)"
   ]
  },
  {
   "cell_type": "code",
   "execution_count": 165,
   "id": "51de20a8-e68c-40e3-b17b-f2cc330329ec",
   "metadata": {},
   "outputs": [],
   "source": [
    "import yaml\n",
    "import json\n",
    "\n",
    "model_config_path = os.path.join(project_root_dir, 'config', 'model_config.yaml')\n",
    "model_config = utils.read_yaml_file(model_config_path)\n",
    "# print(json.dumps(model_config, indent=2))"
   ]
  },
  {
   "cell_type": "markdown",
   "id": "70db000b-c161-4faf-b555-80a64696bed4",
   "metadata": {},
   "source": [
    "## Load and Split Dataset for Training and Evaluation\n",
    "\n",
    "In this section, we load the recordings data from disk, generate data-label pairs, and split them into training and test sets according to the `test_size` defined in the YAML file.\n",
    "\n",
    "Using `test_size` and `seed` from the YAML config ensures that experiments are reproducible and easily tunable for other tasks by simply updating the configuration.\n"
   ]
  },
  {
   "cell_type": "code",
   "execution_count": 166,
   "id": "fd4c30c2-fdc9-4d1f-8491-8948e8a844c8",
   "metadata": {},
   "outputs": [],
   "source": [
    "data_path = model_config['dataset']['path']\n",
    "test_data_size = model_config['data_splitting']['test_size']\n",
    "seed = model_config['experiment']['seed']"
   ]
  },
  {
   "cell_type": "code",
   "execution_count": 167,
   "id": "3f2e678e-b078-4b6d-8788-4807fc2912a2",
   "metadata": {},
   "outputs": [],
   "source": [
    "data_label_pairs = utils.prepare_data_label_pairs(data_path)"
   ]
  },
  {
   "cell_type": "code",
   "execution_count": 168,
   "id": "d5b6e981-6360-4c48-bf87-4d722523a02b",
   "metadata": {},
   "outputs": [],
   "source": [
    "from sklearn.model_selection import train_test_split\n",
    "train_data, test_data = train_test_split(data_label_pairs, test_size=test_data_size, random_state=seed)"
   ]
  },
  {
   "cell_type": "markdown",
   "id": "a9e8a06f-d118-462d-987e-c5ee7363933c",
   "metadata": {},
   "source": [
    "## Transform Raw Data into PyTorch Dataset Objects\n",
    "\n",
    "The `AudioFeaturesDataset` class converts raw data-label pairs into PyTorch-compatible datasets that provide easy access to samples and labels.\n",
    "\n",
    "AudioFeaturesDataset is a custom dataset class that:\n",
    "\n",
    "- Loads audio recordings of spoken digits along with their labels.\n",
    "- Optionally cleans the audio by filtering out noise.\n",
    "- Extracts MFCC features (a common speech feature).\n",
    "- Pads or trims these features to a fixed length so all inputs have the same shape.\n",
    "- Works with PyTorch to provide samples one-by-one when training or testing a model.\n",
    "- It helps prepare your audio data in the right format for training neural networks efficiently.\n"
   ]
  },
  {
   "cell_type": "code",
   "execution_count": 169,
   "id": "d7a181bb-fce0-4dc5-aba6-b0cc522854d3",
   "metadata": {},
   "outputs": [],
   "source": [
    "from src.data_preprocessor import AudioFeaturesDataset\n",
    "\n",
    "train_dataset = AudioFeaturesDataset(train_data)\n",
    "test_dataset = AudioFeaturesDataset(test_data)"
   ]
  },
  {
   "cell_type": "code",
   "execution_count": 170,
   "id": "4121f284-fd0e-49aa-a47b-ebfde0f1e4a6",
   "metadata": {},
   "outputs": [
    {
     "name": "stdout",
     "output_type": "stream",
     "text": [
      "Train size: 2400\n",
      "Test size: 600\n"
     ]
    }
   ],
   "source": [
    "print(f\"Train size: {len(train_dataset)}\")\n",
    "print(f\"Test size: {len(test_dataset)}\")"
   ]
  },
  {
   "cell_type": "markdown",
   "id": "0682500e-8660-481b-a3a8-823d4e824486",
   "metadata": {},
   "source": [
    "## Create DataLoaders for Batch Processing\n",
    "\n",
    "Using PyTorch DataLoaders, we enable efficient loading, batching, and shuffling of data during training and evaluation."
   ]
  },
  {
   "cell_type": "code",
   "execution_count": 171,
   "id": "a2957cdf-bee7-4877-87c8-c4eeb186b190",
   "metadata": {},
   "outputs": [],
   "source": [
    "import torch\n",
    "\n",
    "train_loader = torch.utils.data.DataLoader(train_dataset, batch_size=32, shuffle=True)\n",
    "test_loader = torch.utils.data.DataLoader(test_dataset, batch_size=32, shuffle=False)"
   ]
  },
  {
   "cell_type": "markdown",
   "id": "533f7c9b-69cc-4239-837f-c1c82e9f3695",
   "metadata": {},
   "source": [
    "## LSTM Model Definition\n",
    "\n",
    "A simple `n`-layer LSTM followed by a fully connected output layer. Variable `n` is defined in the configuration YAML file"
   ]
  },
  {
   "cell_type": "code",
   "execution_count": 172,
   "id": "a30ecd48-25db-4e42-92e7-173fd8894e28",
   "metadata": {},
   "outputs": [],
   "source": [
    "input_dim = model_config['model']['input_dim']\n",
    "hidden_dim = model_config['model']['hidden_dim']\n",
    "num_layers = model_config['model']['num_layers']\n",
    "output_dim = model_config['model']['output_dim']"
   ]
  },
  {
   "cell_type": "code",
   "execution_count": 173,
   "id": "b6a3b93e-82ab-4347-99ef-5be89844a4c9",
   "metadata": {},
   "outputs": [],
   "source": [
    "device = torch.device(\"cuda\" if torch.cuda.is_available() else \"cpu\")"
   ]
  },
  {
   "cell_type": "code",
   "execution_count": 174,
   "id": "acc6726e-a78c-4846-900e-d1f38377c3a5",
   "metadata": {},
   "outputs": [],
   "source": [
    "import src.model as model\n",
    "import torch.nn as nn\n",
    "import torch.optim as optim\n",
    "\n",
    "float_model = model.LSTMClassifier(input_dim=input_dim,\n",
    "                       hidden_dim=hidden_dim,\n",
    "                       num_layers=num_layers,\n",
    "                       output_dim=output_dim).to(device)"
   ]
  },
  {
   "cell_type": "markdown",
   "id": "c8b334d1-1991-454e-9b55-4621c7c63362",
   "metadata": {},
   "source": [
    "## Training Loop"
   ]
  },
  {
   "cell_type": "code",
   "execution_count": 175,
   "id": "3b4bcea8-c7ff-46d4-b391-78c08e05adaa",
   "metadata": {},
   "outputs": [],
   "source": [
    "learning_rate = model_config['training']['learning_rate']\n",
    "epochs = model_config['training']['epochs']"
   ]
  },
  {
   "cell_type": "code",
   "execution_count": 176,
   "id": "59d97af0-0fa0-44c6-a66e-68805db8fc70",
   "metadata": {},
   "outputs": [],
   "source": [
    "from src.train import ModelTrainer\n",
    "trainer_instance = ModelTrainer(\n",
    "    float_model, \n",
    "    epochs,\n",
    "    train_loader,\n",
    "    device,\n",
    "    learning_rate\n",
    ")"
   ]
  },
  {
   "cell_type": "code",
   "execution_count": 177,
   "id": "b93e3b2c-3a36-4320-99a8-4ec297bd853a",
   "metadata": {},
   "outputs": [
    {
     "name": "stdout",
     "output_type": "stream",
     "text": [
      "Epoch [1/20], Loss: 134.0127, Accuracy: 57.67%\n",
      "Epoch [2/20], Loss: 49.1018, Accuracy: 86.17%\n",
      "Epoch [3/20], Loss: 21.3893, Accuracy: 96.75%\n",
      "Epoch [4/20], Loss: 12.2558, Accuracy: 96.42%\n",
      "Epoch [5/20], Loss: 9.3282, Accuracy: 98.12%\n",
      "Epoch [6/20], Loss: 6.7593, Accuracy: 96.42%\n",
      "Epoch [7/20], Loss: 5.2892, Accuracy: 98.58%\n",
      "Epoch [8/20], Loss: 4.0651, Accuracy: 99.17%\n",
      "Epoch [9/20], Loss: 1.7189, Accuracy: 99.33%\n",
      "Epoch [10/20], Loss: 1.9559, Accuracy: 99.79%\n",
      "Epoch [11/20], Loss: 3.8065, Accuracy: 95.79%\n",
      "Epoch [12/20], Loss: 3.7462, Accuracy: 99.79%\n",
      "Epoch [13/20], Loss: 1.1268, Accuracy: 99.79%\n",
      "Epoch [14/20], Loss: 1.7250, Accuracy: 99.08%\n",
      "Epoch [15/20], Loss: 2.5933, Accuracy: 99.62%\n",
      "Epoch [16/20], Loss: 2.1036, Accuracy: 99.25%\n",
      "Epoch [17/20], Loss: 1.4843, Accuracy: 99.67%\n",
      "Epoch [18/20], Loss: 0.4845, Accuracy: 99.92%\n",
      "Epoch [19/20], Loss: 0.8350, Accuracy: 100.00%\n",
      "Epoch [20/20], Loss: 0.1467, Accuracy: 100.00%\n"
     ]
    }
   ],
   "source": [
    "trainer_instance.train()"
   ]
  },
  {
   "cell_type": "code",
   "execution_count": 178,
   "id": "dbd17cd3-e337-43b2-b8fd-08297ef05941",
   "metadata": {},
   "outputs": [
    {
     "name": "stdout",
     "output_type": "stream",
     "text": [
      "\n",
      "Layer-wise parameter counts:\n",
      "lstm.weight_ih_l0              -> 6,656 params\n",
      "lstm.weight_hh_l0              -> 65,536 params\n",
      "lstm.bias_ih_l0                -> 512 params\n",
      "lstm.bias_hh_l0                -> 512 params\n",
      "lstm.weight_ih_l1              -> 65,536 params\n",
      "lstm.weight_hh_l1              -> 65,536 params\n",
      "lstm.bias_ih_l1                -> 512 params\n",
      "lstm.bias_hh_l1                -> 512 params\n",
      "fc.weight                      -> 1,280 params\n",
      "fc.bias                        -> 10 params\n",
      "\n",
      "\n",
      " Total Parameters: 206,602\n",
      "Estimated Memory: 807.04 KB (0.79 MB)\n"
     ]
    }
   ],
   "source": [
    "_, _ = utils.get_model_params_size(float_model)"
   ]
  },
  {
   "cell_type": "markdown",
   "id": "5e192852-2d93-484f-b4f1-69f4689d730f",
   "metadata": {},
   "source": [
    "## Evaluation & Visualization"
   ]
  },
  {
   "cell_type": "code",
   "execution_count": 179,
   "id": "85f947da-ba60-44fc-9d7d-1554804a6f18",
   "metadata": {},
   "outputs": [],
   "source": [
    "from src.evaluate import ModelEvaluator"
   ]
  },
  {
   "cell_type": "code",
   "execution_count": 180,
   "id": "2ef20b9c-08b9-42c9-ae8b-93b7e7c4f295",
   "metadata": {},
   "outputs": [],
   "source": [
    "test_instance = ModelEvaluator(\n",
    "    float_model, \n",
    "    test_loader,\n",
    "    device\n",
    ")\n"
   ]
  },
  {
   "cell_type": "code",
   "execution_count": 181,
   "id": "52e00d21-ba5c-4cdb-986a-978ccc3d0d93",
   "metadata": {},
   "outputs": [
    {
     "name": "stdout",
     "output_type": "stream",
     "text": [
      "\n",
      " Accuracy on test data: 99.17%\n",
      "\n",
      " Classification Report:\n",
      "              precision    recall  f1-score   support\n",
      "\n",
      "           0     1.0000    1.0000    1.0000        52\n",
      "           1     1.0000    1.0000    1.0000        65\n",
      "           2     0.9692    1.0000    0.9844        63\n",
      "           3     1.0000    0.9667    0.9831        60\n",
      "           4     1.0000    1.0000    1.0000        55\n",
      "           5     1.0000    0.9811    0.9905        53\n",
      "           6     1.0000    0.9846    0.9922        65\n",
      "           7     1.0000    0.9831    0.9915        59\n",
      "           8     0.9683    1.0000    0.9839        61\n",
      "           9     0.9853    1.0000    0.9926        67\n",
      "\n",
      "    accuracy                         0.9917       600\n",
      "   macro avg     0.9923    0.9915    0.9918       600\n",
      "weighted avg     0.9919    0.9917    0.9917       600\n",
      "\n",
      "\n",
      " Confusion Matrix:\n",
      "[[52  0  0  0  0  0  0  0  0  0]\n",
      " [ 0 65  0  0  0  0  0  0  0  0]\n",
      " [ 0  0 63  0  0  0  0  0  0  0]\n",
      " [ 0  0  1 58  0  0  0  0  1  0]\n",
      " [ 0  0  0  0 55  0  0  0  0  0]\n",
      " [ 0  0  0  0  0 52  0  0  0  1]\n",
      " [ 0  0  0  0  0  0 64  0  1  0]\n",
      " [ 0  0  1  0  0  0  0 58  0  0]\n",
      " [ 0  0  0  0  0  0  0  0 61  0]\n",
      " [ 0  0  0  0  0  0  0  0  0 67]]\n"
     ]
    }
   ],
   "source": [
    "test_instance.evaluate()"
   ]
  },
  {
   "cell_type": "code",
   "execution_count": 182,
   "id": "7233c710-d50f-481e-a346-72a8eb705976",
   "metadata": {},
   "outputs": [],
   "source": [
    "float_model_save_path = os.path.join(project_root_dir, 'outputs', 'models', 'float_model_weights.pth')\n",
    "torch.save(float_model.state_dict(), float_model_save_path)"
   ]
  },
  {
   "cell_type": "markdown",
   "id": "f863b267-4316-4fe2-8a49-72d03ea4fbd3",
   "metadata": {
    "jp-MarkdownHeadingCollapsed": true
   },
   "source": [
    "## Task B — Retrain Under Memory Constraints\n",
    "\n",
    "- All parameters of any one layer must fit into memory simultaneously\n",
    "- Maximum memory available for layer parameters is 36 KB\n",
    "\n",
    "Since Pytorch stores all the layer parameters as floating point values, as 32-bit floats(4 bytes per parameter), this implies that the \n",
    "maximum number of parameters should not exceed\n",
    "\n",
    "$$\n",
    "\\text{Max total number of parameters} = \\frac{36\\,\\text{KB}}{4\\,\\text{bytes}} = \\frac{36 \\times 1024}{4} = 9,216 \\text{ parameters}\n",
    "$$\n",
    "\n",
    "## Model Parameter Breakdown for 2 Layers LSTM\n",
    "The following calculations are based on the parameter definitions from PyTorch's LSTM implementation, as described in the \\href{https://docs.pytorch.org/docs/stable/generated/torch.nn.LSTM.html\\#torch.nn.LSTM}{official documentation}. \n",
    "\n",
    "Let’s define the following variables:\n",
    "\n",
    "$$\n",
    "\\begin{aligned}\n",
    "\\text{Input dimension} &= i \\\\\n",
    "\\text{Hidden dimension} &= h \\\\\n",
    "\\text{Output dimension} &= o \\\\\n",
    "\\text{Number of LSTM layers} &= 2 \\\\\n",
    "\\text{Fully Connected (Linear) layer count} &= 1 \\\\\n",
    "\\end{aligned}\n",
    "$$\n",
    "\n",
    "These will be used to calculate the total number of parameters in the model.\n",
    "\n",
    "---\n",
    "\n",
    "## LSTM Layer Parameters\n",
    "\n",
    "Each LSTM layer has 4 internal gates (input, forget, cell, output).  \n",
    "So each layer has:\n",
    "\n",
    "$$\n",
    "\\begin{aligned}\n",
    "W\\_{ih} &: \\text{Weights from input to hidden} \\rightarrow \\text{shape: } (4 \\times h, i) \\\\\n",
    "W\\_{hh} &: \\text{Weights from hidden to hidden} \\rightarrow \\text{shape: } (4 \\times h, h) \\\\\n",
    "b\\_{ih}, b\\_{hh} &: \\text{Biases for each gate} \\rightarrow \\text{shape: } (4 \\times h)\n",
    "\\end{aligned}\n",
    "$$\n",
    "\n",
    "### Calculations:\n",
    "\n",
    "$$\n",
    "\\begin{aligned}\n",
    "&\\textbf{Layer 1 Parameters} \\\\\n",
    "&W\\_ih: 4 \\times h \\times i \\\\\n",
    "&W\\_hh: 4 \\times h \\times h \\\\\n",
    "&b\\_ih: 4 \\times h \\\\\n",
    "&b\\_hh: 4 \\times h \\\\\n",
    "&\\\\\n",
    "&\\textbf{Layer 2 Parameters} \\\\\n",
    "&W\\_ih: 4 \\times h \\times h \\\\\n",
    "&W\\_hh: 4 \\times h \\times h \\\\\n",
    "&b\\_ih: 4 \\times h \\\\\n",
    "&b\\_hh: 4 \\times h \\\\\n",
    "&\\\\\n",
    "&\\text{Total LSTM parameters} = (4 \\times h \\times i) + (4 \\times h \\times h) + (8 \\times h) = 4hi + 4h^2 + 8h\n",
    "\\end{aligned}\n",
    "$$\n",
    "\n",
    "---\n",
    "\n",
    "## Fully Connected (Linear) Layer\n",
    "\n",
    "- Input features = $$\\text{hidden\\_dim} = h$$  \n",
    "- Output features = $$\\text{output\\_dim} = o$$\n",
    "\n",
    "### Calculations:\n",
    "$$\n",
    "\\begin{aligned}\n",
    "&\\text{Weights}: \\quad h \\times o \\\\\n",
    "&\\text{Bias}: \\quad o \\\\\n",
    "&\\textbf{Total Linear parameters} = h \\cdot o + o = o(h + 1)\n",
    "\\end{aligned}\n",
    "$$\n",
    "\n",
    "---\n",
    "\n",
    "## Total Parameters\n",
    "\n",
    "The total number of parameters in the model is the sum of the LSTM and Linear layer parameters:\n",
    "\n",
    "$$\n",
    "\\text{Total Parameters} = \\text{Total LSTM Parameters} + \\text{Total Linear Parameters}\n",
    "$$\n",
    "\n",
    "From earlier calculations:\n",
    "\n",
    "- $\\text{Total LSTM Parameters} = 4hi + 4h^2 + 8h$\n",
    "- $\\text{Total Linear Parameters} = h \\cdot o + o = o(h + 1)$\n",
    "\n",
    "Therefore:\n",
    "\n",
    "$$\n",
    "\\text{Total Parameters} = (4hi + 4h^2 + 8h) + o(h + 1)\n",
    "$$\n",
    "\n",
    "Or more compactly:\n",
    "\n",
    "$$\n",
    "\\boxed{\\text{Total Parameters} = 4hi + 4h^2 + 8h + o(h + 1)}\n",
    "$$\n",
    "\n",
    "---\n"
   ]
  },
  {
   "cell_type": "markdown",
   "id": "e958d7b7-41d4-4753-99c0-42ae9303be61",
   "metadata": {},
   "source": [
    "## Designing a 2-Layer LSTM Under a 36 KB Memory Constraint\n",
    "\n",
    "Given an output dimension of $10$ (representing 10 classes or digits) and an input dimension of $13$ (corresponding to 13 MFCC coefficients per time step), the total number of parameters in the model reduces to the following quadratic expression:\n",
    "\n",
    "$$\n",
    "\\text{Total Parameters} = 12h^2 + 78h + 10\n",
    "$$\n",
    "\n",
    "Here, $ h $ (the hidden dimension) remains the only variable we need to solve for.\n",
    "\n",
    "Since the memory constraint allows for a maximum of \\textbf{9,216 parameters}, the hidden dimension must satisfy:\n",
    "\n",
    "$$\n",
    "12h^2 + 78h + 10 \\leq 9216\n",
    "$$\n",
    "\n",
    "The maximum valid integer value of $ h $ that satisfies the inequality is:\n",
    "$$\n",
    "h = 24\n",
    "$$\n",
    "\n",
    "---"
   ]
  },
  {
   "cell_type": "code",
   "execution_count": 183,
   "id": "92bbbd4b-4632-472a-885e-2e07f1894c7d",
   "metadata": {},
   "outputs": [],
   "source": [
    "import src.model as model_with_constraints\n",
    "\n",
    "hidden_dim = 24\n",
    "memory_constraint_model = model_with_constraints.LSTMClassifier(input_dim=input_dim,\n",
    "                                           hidden_dim=hidden_dim,\n",
    "                                           num_layers=num_layers,\n",
    "                                           output_dim=output_dim).to(device)"
   ]
  },
  {
   "cell_type": "code",
   "execution_count": 184,
   "id": "bf734e3a-c8ec-4df5-98e8-22a38e69674e",
   "metadata": {},
   "outputs": [],
   "source": [
    "from src.train import ModelTrainer\n",
    "trainer_instance_2 = ModelTrainer(\n",
    "    memory_constraint_model, \n",
    "    epochs,\n",
    "    train_loader,\n",
    "    device,\n",
    "    learning_rate\n",
    ")"
   ]
  },
  {
   "cell_type": "code",
   "execution_count": 185,
   "id": "16108f19-ba8a-42ee-85fd-d8b9dc257643",
   "metadata": {},
   "outputs": [
    {
     "name": "stdout",
     "output_type": "stream",
     "text": [
      "Epoch [1/20], Loss: 171.8823, Accuracy: 22.96%\n",
      "Epoch [2/20], Loss: 149.6941, Accuracy: 31.75%\n",
      "Epoch [3/20], Loss: 118.6571, Accuracy: 46.25%\n",
      "Epoch [4/20], Loss: 97.1606, Accuracy: 54.58%\n",
      "Epoch [5/20], Loss: 85.1007, Accuracy: 58.83%\n",
      "Epoch [6/20], Loss: 73.9288, Accuracy: 64.17%\n",
      "Epoch [7/20], Loss: 63.3497, Accuracy: 77.25%\n",
      "Epoch [8/20], Loss: 57.7939, Accuracy: 80.54%\n",
      "Epoch [9/20], Loss: 50.7915, Accuracy: 83.17%\n",
      "Epoch [10/20], Loss: 42.4622, Accuracy: 85.83%\n",
      "Epoch [11/20], Loss: 37.6456, Accuracy: 89.75%\n",
      "Epoch [12/20], Loss: 31.4392, Accuracy: 89.38%\n",
      "Epoch [13/20], Loss: 29.2465, Accuracy: 91.12%\n",
      "Epoch [14/20], Loss: 25.1869, Accuracy: 93.58%\n",
      "Epoch [15/20], Loss: 23.3022, Accuracy: 95.17%\n",
      "Epoch [16/20], Loss: 17.3526, Accuracy: 95.25%\n",
      "Epoch [17/20], Loss: 17.0136, Accuracy: 95.38%\n",
      "Epoch [18/20], Loss: 16.4417, Accuracy: 93.88%\n",
      "Epoch [19/20], Loss: 16.1394, Accuracy: 96.21%\n",
      "Epoch [20/20], Loss: 13.2230, Accuracy: 96.96%\n"
     ]
    }
   ],
   "source": [
    "trainer_instance_2.train()"
   ]
  },
  {
   "cell_type": "code",
   "execution_count": 186,
   "id": "6ad2f6cf-3eb9-48c2-9152-7843f556a770",
   "metadata": {},
   "outputs": [
    {
     "name": "stdout",
     "output_type": "stream",
     "text": [
      "\n",
      "Layer-wise parameter counts:\n",
      "lstm.weight_ih_l0              -> 1,248 params\n",
      "lstm.weight_hh_l0              -> 2,304 params\n",
      "lstm.bias_ih_l0                -> 96 params\n",
      "lstm.bias_hh_l0                -> 96 params\n",
      "lstm.weight_ih_l1              -> 2,304 params\n",
      "lstm.weight_hh_l1              -> 2,304 params\n",
      "lstm.bias_ih_l1                -> 96 params\n",
      "lstm.bias_hh_l1                -> 96 params\n",
      "fc.weight                      -> 240 params\n",
      "fc.bias                        -> 10 params\n",
      "\n",
      "\n",
      " Total Parameters: 8,794\n",
      "Estimated Memory: 34.35 KB (0.03 MB)\n"
     ]
    }
   ],
   "source": [
    "_, _ = utils.get_model_params_size(memory_constraint_model)"
   ]
  },
  {
   "cell_type": "code",
   "execution_count": 187,
   "id": "7bace95f-b096-4648-baf2-2bdc0375f9bc",
   "metadata": {},
   "outputs": [],
   "source": [
    "from src.evaluate import ModelEvaluator"
   ]
  },
  {
   "cell_type": "code",
   "execution_count": 188,
   "id": "91968fee-a54e-40ba-a2ed-1ba2d1039615",
   "metadata": {},
   "outputs": [],
   "source": [
    "test_instance_2 = ModelEvaluator(\n",
    "    memory_constraint_model, \n",
    "    test_loader,\n",
    "    device\n",
    ")"
   ]
  },
  {
   "cell_type": "code",
   "execution_count": 189,
   "id": "4352fe35-66bc-4cf1-8bd3-d129e20617e8",
   "metadata": {},
   "outputs": [
    {
     "name": "stdout",
     "output_type": "stream",
     "text": [
      "\n",
      " Accuracy on test data: 92.67%\n",
      "\n",
      " Classification Report:\n",
      "              precision    recall  f1-score   support\n",
      "\n",
      "           0     1.0000    1.0000    1.0000        52\n",
      "           1     0.9841    0.9538    0.9688        65\n",
      "           2     0.9828    0.9048    0.9421        63\n",
      "           3     0.8308    0.9000    0.8640        60\n",
      "           4     1.0000    0.9273    0.9623        55\n",
      "           5     0.8387    0.9811    0.9043        53\n",
      "           6     0.9310    0.8308    0.8780        65\n",
      "           7     0.9825    0.9492    0.9655        59\n",
      "           8     0.8594    0.9016    0.8800        61\n",
      "           9     0.9000    0.9403    0.9197        67\n",
      "\n",
      "    accuracy                         0.9267       600\n",
      "   macro avg     0.9309    0.9289    0.9285       600\n",
      "weighted avg     0.9306    0.9267    0.9273       600\n",
      "\n",
      "\n",
      " Confusion Matrix:\n",
      "[[52  0  0  0  0  0  0  0  0  0]\n",
      " [ 0 62  0  0  0  1  0  0  0  2]\n",
      " [ 0  0 57  4  0  0  0  0  0  2]\n",
      " [ 0  0  1 54  0  0  2  0  1  2]\n",
      " [ 0  0  0  0 51  4  0  0  0  0]\n",
      " [ 0  0  0  0  0 52  0  0  0  1]\n",
      " [ 0  0  0  3  0  0 54  0  8  0]\n",
      " [ 0  0  0  0  0  2  1 56  0  0]\n",
      " [ 0  0  0  4  0  0  1  1 55  0]\n",
      " [ 0  1  0  0  0  3  0  0  0 63]]\n"
     ]
    }
   ],
   "source": [
    "test_instance_2.evaluate()"
   ]
  },
  {
   "cell_type": "code",
   "execution_count": 190,
   "id": "418b8710-1ae6-469e-8282-f0acbd8326d4",
   "metadata": {},
   "outputs": [],
   "source": [
    "memory_constraint_model_save_path = os.path.join(project_root_dir, 'outputs', 'models', 'memory_constraint_model_weights.pth')\n",
    "torch.save(memory_constraint_model.state_dict(), memory_constraint_model_save_path)"
   ]
  },
  {
   "cell_type": "code",
   "execution_count": 192,
   "id": "0fba6210-ab20-4ca3-82d0-f084dcbfe595",
   "metadata": {},
   "outputs": [
    {
     "name": "stdout",
     "output_type": "stream",
     "text": [
      "Memory Constraint model size: 37.13 KB\n"
     ]
    }
   ],
   "source": [
    "import tempfile\n",
    "\n",
    "with tempfile.NamedTemporaryFile(delete=True) as tmp:\n",
    "    torch.save(memory_constraint_model.state_dict(), tmp.name)\n",
    "    memory_model_size_kb = os.path.getsize(tmp.name) / 1024\n",
    "    print(f\"Memory Constraint model size: {memory_model_size_kb:.2f} KB\")"
   ]
  },
  {
   "cell_type": "markdown",
   "id": "bb4fd5d7-b633-4659-8782-d071a75553af",
   "metadata": {},
   "source": [
    "## Floating Point Restriction (Task B Continued)\n",
    "\n",
    "In addition to the 36 KB memory constraint, the hardware for Task B is limited in computational capability and **does not support floating point operations**. It means the network must operate using **integer or fixed-point arithmetic** only. **Weights, activations, and computations** should be **quantized** to lower-precision formats such as 8-bit integers (INT8)\n"
   ]
  },
  {
   "cell_type": "markdown",
   "id": "d1bde340-b0ed-4641-9fd6-c383c328d121",
   "metadata": {
    "jp-MarkdownHeadingCollapsed": true
   },
   "source": [
    "### Dynamic Quantization"
   ]
  },
  {
   "cell_type": "code",
   "execution_count": 78,
   "id": "65bbcbb6-07e7-432e-bf04-d56cf0d20471",
   "metadata": {},
   "outputs": [],
   "source": [
    "memory_constraint_model_cpu = memory_constraint_model.to('cpu') \n",
    "# Apply dynamic quantization to the entire model or just LSTM/Linear layers\n",
    "dynamic_quantized_model = torch.quantization.quantize_dynamic(\n",
    "    memory_constraint_model_cpu,  # the model instance\n",
    "    {nn.LSTM, nn.Linear},  # layers to quantize\n",
    "    dtype=torch.qint8  # quantize to 8-bit integers\n",
    ")"
   ]
  },
  {
   "cell_type": "code",
   "execution_count": 79,
   "id": "40d46328-0968-47c0-a43e-fa9c9cd95d45",
   "metadata": {},
   "outputs": [],
   "source": [
    "from src.evaluate import ModelEvaluator"
   ]
  },
  {
   "cell_type": "code",
   "execution_count": 35,
   "id": "4ed358da-c959-47ba-b90e-1dac930cf08a",
   "metadata": {},
   "outputs": [],
   "source": [
    "device = torch.device(\"cpu\")\n",
    "test_instance = ModelEvaluator(\n",
    "    memory_constraint_model_cpu, \n",
    "    test_loader,\n",
    "    device\n",
    ")"
   ]
  },
  {
   "cell_type": "code",
   "execution_count": 36,
   "id": "cde78786-f9d9-4f73-a478-77e46158c359",
   "metadata": {},
   "outputs": [
    {
     "name": "stdout",
     "output_type": "stream",
     "text": [
      "\n",
      " Accuracy on test data: 93.00%\n",
      "\n",
      " Classification Report:\n",
      "              precision    recall  f1-score   support\n",
      "\n",
      "           0     1.0000    1.0000    1.0000        52\n",
      "           1     0.9839    0.9385    0.9606        65\n",
      "           2     1.0000    0.9206    0.9587        63\n",
      "           3     0.8438    0.9000    0.8710        60\n",
      "           4     1.0000    0.9273    0.9623        55\n",
      "           5     0.8387    0.9811    0.9043        53\n",
      "           6     0.9333    0.8615    0.8960        65\n",
      "           7     0.9655    0.9492    0.9573        59\n",
      "           8     0.8871    0.9016    0.8943        61\n",
      "           9     0.8873    0.9403    0.9130        67\n",
      "\n",
      "    accuracy                         0.9300       600\n",
      "   macro avg     0.9340    0.9320    0.9318       600\n",
      "weighted avg     0.9337    0.9300    0.9307       600\n",
      "\n",
      "\n",
      " Confusion Matrix:\n",
      "[[52  0  0  0  0  0  0  0  0  0]\n",
      " [ 0 61  0  0  0  1  0  0  0  3]\n",
      " [ 0  0 58  3  0  0  0  0  0  2]\n",
      " [ 0  0  0 54  0  0  2  1  1  2]\n",
      " [ 0  0  0  0 51  4  0  0  0  0]\n",
      " [ 0  0  0  0  0 52  0  0  0  1]\n",
      " [ 0  0  0  3  0  0 56  0  6  0]\n",
      " [ 0  0  0  0  0  2  1 56  0  0]\n",
      " [ 0  0  0  4  0  0  1  1 55  0]\n",
      " [ 0  1  0  0  0  3  0  0  0 63]]\n"
     ]
    }
   ],
   "source": [
    "test_instance.evaluate()"
   ]
  },
  {
   "cell_type": "markdown",
   "id": "458c9697-dd05-4536-ab79-44a9013ad2af",
   "metadata": {},
   "source": [
    "#### Compare the Inference times for Floating point and Quantised model"
   ]
  },
  {
   "cell_type": "markdown",
   "id": "a490e43a-6b02-40e8-8195-9ac033d0e327",
   "metadata": {},
   "source": [
    "#### Compare the model sizes of Floating point and Quantised model"
   ]
  },
  {
   "cell_type": "markdown",
   "id": "5c4f7307-719c-42f2-94b8-ed65a510a0f2",
   "metadata": {},
   "source": [
    "### Static Quantization"
   ]
  },
  {
   "cell_type": "code",
   "execution_count": 193,
   "id": "e4cfe0dd-e157-48aa-b670-6864307591e0",
   "metadata": {},
   "outputs": [],
   "source": [
    "import src.model as model\n",
    "\n",
    "hidden_dim = 24\n",
    "quant_model = model.LSTMClassifier(input_dim=input_dim,\n",
    "                       hidden_dim=hidden_dim,\n",
    "                       num_layers=num_layers,\n",
    "                       output_dim=output_dim).to(device)"
   ]
  },
  {
   "cell_type": "code",
   "execution_count": 194,
   "id": "9df73ae4-aa64-4a8d-9abe-bf1b8146d8d3",
   "metadata": {},
   "outputs": [
    {
     "data": {
      "text/plain": [
       "<All keys matched successfully>"
      ]
     },
     "execution_count": 194,
     "metadata": {},
     "output_type": "execute_result"
    }
   ],
   "source": [
    "memory_constraint_model_load_path = os.path.join(project_root_dir, 'outputs', 'models', 'memory_constraint_model_weights.pth')\n",
    "quant_model.load_state_dict(torch.load(memory_constraint_model_load_path))"
   ]
  },
  {
   "cell_type": "code",
   "execution_count": 195,
   "id": "c2dbbef6-8eac-4ae4-9c47-42c5088e6946",
   "metadata": {},
   "outputs": [
    {
     "data": {
      "text/plain": [
       "LSTMClassifier(\n",
       "  (lstm): LSTM(13, 24, num_layers=2, batch_first=True, dropout=0.3)\n",
       "  (dropout): Dropout(p=0.3, inplace=False)\n",
       "  (fc): Linear(in_features=24, out_features=10, bias=True)\n",
       ")"
      ]
     },
     "execution_count": 195,
     "metadata": {},
     "output_type": "execute_result"
    }
   ],
   "source": [
    "quant_model.eval()"
   ]
  },
  {
   "cell_type": "code",
   "execution_count": 196,
   "id": "468d1b42-cdcf-43db-b4e3-8e2c3dbc3120",
   "metadata": {},
   "outputs": [],
   "source": [
    "import src.quantize as quantize\n",
    "static_quant_model = quantize.StaticQuantizableModel(quant_model)"
   ]
  },
  {
   "cell_type": "code",
   "execution_count": 197,
   "id": "8cd8b6e6-4df2-45b3-b4ee-f9e77afe362c",
   "metadata": {},
   "outputs": [
    {
     "name": "stdout",
     "output_type": "stream",
     "text": [
      "StaticQuantizableModel(\n",
      "  (quant): QuantStub()\n",
      "  (dequant): DeQuantStub()\n",
      "  (model): LSTMClassifier(\n",
      "    (lstm): LSTM(13, 24, num_layers=2, batch_first=True, dropout=0.3)\n",
      "    (dropout): Dropout(p=0.3, inplace=False)\n",
      "    (fc): Linear(in_features=24, out_features=10, bias=True)\n",
      "  )\n",
      ")\n"
     ]
    }
   ],
   "source": [
    "print(static_quant_model)"
   ]
  },
  {
   "cell_type": "code",
   "execution_count": 198,
   "id": "47bddac4-37d9-4954-bd97-673550566bf7",
   "metadata": {},
   "outputs": [
    {
     "name": "stderr",
     "output_type": "stream",
     "text": [
      "/home/pavan/Music/spectrum/spectgramer/lib/python3.10/site-packages/torch/ao/nn/quantizable/modules/rnn.py:462: UserWarning: dropout option for quantizable LSTM is ignored. If you are training, please, use nn.LSTM version followed by `prepare` step.\n",
      "  warnings.warn(\n"
     ]
    }
   ],
   "source": [
    "static_quant_model.qconfig = torch.quantization.get_default_qconfig('qnnpack')  # For edge devices\n",
    "torch.backends.quantized.engine = 'qnnpack'\n",
    "\n",
    "static_quant_model_prepared = torch.quantization.prepare(static_quant_model)"
   ]
  },
  {
   "cell_type": "code",
   "execution_count": 199,
   "id": "5e533a1d-2ade-4e1a-9c4a-8549532aad15",
   "metadata": {},
   "outputs": [],
   "source": [
    "calibration_indices = list(range(100))\n",
    "calibration_dataset = torch.utils.data.Subset(test_dataset, calibration_indices)\n",
    "\n",
    "calibration_dataloader = torch.utils.data.DataLoader(calibration_dataset, batch_size=32)"
   ]
  },
  {
   "cell_type": "code",
   "execution_count": 200,
   "id": "7074be83-59fd-4dcb-8d1e-6d0b928d934f",
   "metadata": {},
   "outputs": [],
   "source": [
    "static_quant_model_prepared = static_quant_model_prepared.to('cpu')\n",
    "device = torch.device(\"cpu\")\n",
    "\n",
    "quantize.calibrate(static_quant_model_prepared, calibration_dataloader, device)"
   ]
  },
  {
   "cell_type": "code",
   "execution_count": 201,
   "id": "344dadd0-283b-4cbc-b6d5-9795a7e11a7b",
   "metadata": {},
   "outputs": [],
   "source": [
    "static_quantized_model = torch.quantization.convert(static_quant_model_prepared)"
   ]
  },
  {
   "cell_type": "code",
   "execution_count": 202,
   "id": "ee63cb0d-921f-4d81-abc5-93730e69dc76",
   "metadata": {},
   "outputs": [
    {
     "name": "stdout",
     "output_type": "stream",
     "text": [
      "cpu\n"
     ]
    }
   ],
   "source": [
    "print(device)"
   ]
  },
  {
   "cell_type": "code",
   "execution_count": 203,
   "id": "9e360937-58a0-4dd4-84d4-0f2a9cc960f5",
   "metadata": {},
   "outputs": [
    {
     "name": "stdout",
     "output_type": "stream",
     "text": [
      "cpu\n"
     ]
    }
   ],
   "source": [
    "from src.evaluate import ModelEvaluator\n",
    "print(device)\n",
    "quant_test_instance = ModelEvaluator(\n",
    "    static_quantized_model, \n",
    "    test_loader,\n",
    "    device\n",
    ")\n",
    "\n"
   ]
  },
  {
   "cell_type": "code",
   "execution_count": 205,
   "id": "116e9487-62c1-429b-9716-e3a5def9f8fb",
   "metadata": {},
   "outputs": [
    {
     "name": "stderr",
     "output_type": "stream",
     "text": [
      "/home/pavan/Music/spectrum/spectgramer/lib/python3.10/site-packages/torch/ao/nn/quantizable/modules/rnn.py:543: UserWarning: All inputs of this cat operator must share the same quantization parameters. Otherwise large numerical inaccuracies may occur. (Triggered internally at /pytorch/aten/src/ATen/native/quantized/cpu/TensorShape.cpp:167.)\n",
      "  cx_tensor = torch.stack(cx_list)\n"
     ]
    },
    {
     "name": "stdout",
     "output_type": "stream",
     "text": [
      "\n",
      " Accuracy on test data: 91.83%\n",
      "\n",
      " Classification Report:\n",
      "              precision    recall  f1-score   support\n",
      "\n",
      "           0     0.9808    0.9808    0.9808        52\n",
      "           1     0.9677    0.9231    0.9449        65\n",
      "           2     1.0000    0.8730    0.9322        63\n",
      "           3     0.7647    0.8667    0.8125        60\n",
      "           4     1.0000    0.9636    0.9815        55\n",
      "           5     0.8621    0.9434    0.9009        53\n",
      "           6     0.9016    0.8462    0.8730        65\n",
      "           7     0.9661    0.9661    0.9661        59\n",
      "           8     0.8852    0.8852    0.8852        61\n",
      "           9     0.9014    0.9552    0.9275        67\n",
      "\n",
      "    accuracy                         0.9183       600\n",
      "   macro avg     0.9230    0.9203    0.9205       600\n",
      "weighted avg     0.9225    0.9183    0.9192       600\n",
      "\n",
      "\n",
      " Confusion Matrix:\n",
      "[[51  0  0  0  0  0  0  1  0  0]\n",
      " [ 0 60  0  0  0  2  0  0  0  3]\n",
      " [ 1  0 55  6  0  0  0  0  0  1]\n",
      " [ 0  0  0 52  0  0  4  0  2  2]\n",
      " [ 0  0  0  0 53  2  0  0  0  0]\n",
      " [ 0  2  0  0  0 50  0  0  0  1]\n",
      " [ 0  0  0  5  0  0 55  0  5  0]\n",
      " [ 0  0  0  0  0  1  1 57  0  0]\n",
      " [ 0  0  0  5  0  0  1  1 54  0]\n",
      " [ 0  0  0  0  0  3  0  0  0 64]]\n"
     ]
    }
   ],
   "source": [
    "quant_test_instance.evaluate()"
   ]
  },
  {
   "cell_type": "code",
   "execution_count": 206,
   "id": "c5575187-1d97-4867-8cad-06e53ece60aa",
   "metadata": {},
   "outputs": [
    {
     "name": "stdout",
     "output_type": "stream",
     "text": [
      "\n",
      "Layer-wise parameter counts:\n",
      "\n",
      "\n",
      " Total Parameters: 0\n",
      "Estimated Memory: 0.00 KB (0.00 MB)\n"
     ]
    }
   ],
   "source": [
    "_, _ = utils.get_model_params_size(static_quantized_model)"
   ]
  },
  {
   "cell_type": "code",
   "execution_count": 208,
   "id": "3fbc02fb-3738-40ee-a933-1baffb33aa6d",
   "metadata": {},
   "outputs": [
    {
     "name": "stdout",
     "output_type": "stream",
     "text": [
      "Quantized model size: 26.66 KB\n"
     ]
    }
   ],
   "source": [
    "import tempfile\n",
    "\n",
    "with tempfile.NamedTemporaryFile(delete=True) as tmp:\n",
    "    torch.save(static_quantized_model.state_dict(), tmp.name)\n",
    "    quantized_model_size_kb = os.path.getsize(tmp.name) / 1024\n",
    "    print(f\"Quantized model size: {quantized_model_size_kb:.2f} KB\")"
   ]
  },
  {
   "cell_type": "code",
   "execution_count": 209,
   "id": "da5f7ca8-6065-45d2-94fb-15b428c21340",
   "metadata": {},
   "outputs": [
    {
     "name": "stdout",
     "output_type": "stream",
     "text": [
      "Layer:  | Type: <class 'src.quantize.StaticQuantizableModel'>\n",
      "Layer: quant | Type: <class 'torch.ao.nn.quantized.modules.Quantize'>\n",
      "Layer: dequant | Type: <class 'torch.ao.nn.quantized.modules.DeQuantize'>\n",
      "Layer: model | Type: <class 'src.model.LSTMClassifier'>\n",
      "Layer: model.lstm | Type: <class 'torch.ao.nn.quantized.modules.rnn.LSTM'>\n",
      "Layer: model.lstm.layers | Type: <class 'torch.nn.modules.container.ModuleList'>\n",
      "Layer: model.lstm.layers.0 | Type: <class 'torch.ao.nn.quantizable.modules.rnn._LSTMLayer'>\n",
      "Layer: model.lstm.layers.0.layer_fw | Type: <class 'torch.ao.nn.quantizable.modules.rnn._LSTMSingleLayer'>\n",
      "Layer: model.lstm.layers.0.layer_fw.cell | Type: <class 'torch.ao.nn.quantizable.modules.rnn.LSTMCell'>\n",
      "Layer: model.lstm.layers.0.layer_fw.cell.igates | Type: <class 'torch.ao.nn.quantized.modules.linear.Linear'>\n",
      "Layer: model.lstm.layers.0.layer_fw.cell.igates._packed_params | Type: <class 'torch.ao.nn.quantized.modules.linear.LinearPackedParams'>\n",
      "Layer: model.lstm.layers.0.layer_fw.cell.hgates | Type: <class 'torch.ao.nn.quantized.modules.linear.Linear'>\n",
      "Layer: model.lstm.layers.0.layer_fw.cell.hgates._packed_params | Type: <class 'torch.ao.nn.quantized.modules.linear.LinearPackedParams'>\n",
      "Layer: model.lstm.layers.0.layer_fw.cell.gates | Type: <class 'torch.ao.nn.quantized.modules.functional_modules.QFunctional'>\n",
      "Layer: model.lstm.layers.0.layer_fw.cell.gates.activation_post_process | Type: <class 'torch.nn.modules.linear.Identity'>\n",
      "Layer: model.lstm.layers.0.layer_fw.cell.input_gate | Type: <class 'torch.nn.modules.activation.Sigmoid'>\n",
      "Layer: model.lstm.layers.0.layer_fw.cell.forget_gate | Type: <class 'torch.nn.modules.activation.Sigmoid'>\n",
      "Layer: model.lstm.layers.0.layer_fw.cell.cell_gate | Type: <class 'torch.nn.modules.activation.Tanh'>\n",
      "Layer: model.lstm.layers.0.layer_fw.cell.output_gate | Type: <class 'torch.nn.modules.activation.Sigmoid'>\n",
      "Layer: model.lstm.layers.0.layer_fw.cell.fgate_cx | Type: <class 'torch.ao.nn.quantized.modules.functional_modules.QFunctional'>\n",
      "Layer: model.lstm.layers.0.layer_fw.cell.fgate_cx.activation_post_process | Type: <class 'torch.nn.modules.linear.Identity'>\n",
      "Layer: model.lstm.layers.0.layer_fw.cell.igate_cgate | Type: <class 'torch.ao.nn.quantized.modules.functional_modules.QFunctional'>\n",
      "Layer: model.lstm.layers.0.layer_fw.cell.igate_cgate.activation_post_process | Type: <class 'torch.nn.modules.linear.Identity'>\n",
      "Layer: model.lstm.layers.0.layer_fw.cell.fgate_cx_igate_cgate | Type: <class 'torch.ao.nn.quantized.modules.functional_modules.QFunctional'>\n",
      "Layer: model.lstm.layers.0.layer_fw.cell.fgate_cx_igate_cgate.activation_post_process | Type: <class 'torch.nn.modules.linear.Identity'>\n",
      "Layer: model.lstm.layers.0.layer_fw.cell.ogate_cy | Type: <class 'torch.ao.nn.quantized.modules.functional_modules.QFunctional'>\n",
      "Layer: model.lstm.layers.0.layer_fw.cell.ogate_cy.activation_post_process | Type: <class 'torch.nn.modules.linear.Identity'>\n",
      "Layer: model.lstm.layers.1 | Type: <class 'torch.ao.nn.quantizable.modules.rnn._LSTMLayer'>\n",
      "Layer: model.lstm.layers.1.layer_fw | Type: <class 'torch.ao.nn.quantizable.modules.rnn._LSTMSingleLayer'>\n",
      "Layer: model.lstm.layers.1.layer_fw.cell | Type: <class 'torch.ao.nn.quantizable.modules.rnn.LSTMCell'>\n",
      "Layer: model.lstm.layers.1.layer_fw.cell.igates | Type: <class 'torch.ao.nn.quantized.modules.linear.Linear'>\n",
      "Layer: model.lstm.layers.1.layer_fw.cell.igates._packed_params | Type: <class 'torch.ao.nn.quantized.modules.linear.LinearPackedParams'>\n",
      "Layer: model.lstm.layers.1.layer_fw.cell.hgates | Type: <class 'torch.ao.nn.quantized.modules.linear.Linear'>\n",
      "Layer: model.lstm.layers.1.layer_fw.cell.hgates._packed_params | Type: <class 'torch.ao.nn.quantized.modules.linear.LinearPackedParams'>\n",
      "Layer: model.lstm.layers.1.layer_fw.cell.gates | Type: <class 'torch.ao.nn.quantized.modules.functional_modules.QFunctional'>\n",
      "Layer: model.lstm.layers.1.layer_fw.cell.gates.activation_post_process | Type: <class 'torch.nn.modules.linear.Identity'>\n",
      "Layer: model.lstm.layers.1.layer_fw.cell.input_gate | Type: <class 'torch.nn.modules.activation.Sigmoid'>\n",
      "Layer: model.lstm.layers.1.layer_fw.cell.forget_gate | Type: <class 'torch.nn.modules.activation.Sigmoid'>\n",
      "Layer: model.lstm.layers.1.layer_fw.cell.cell_gate | Type: <class 'torch.nn.modules.activation.Tanh'>\n",
      "Layer: model.lstm.layers.1.layer_fw.cell.output_gate | Type: <class 'torch.nn.modules.activation.Sigmoid'>\n",
      "Layer: model.lstm.layers.1.layer_fw.cell.fgate_cx | Type: <class 'torch.ao.nn.quantized.modules.functional_modules.QFunctional'>\n",
      "Layer: model.lstm.layers.1.layer_fw.cell.fgate_cx.activation_post_process | Type: <class 'torch.nn.modules.linear.Identity'>\n",
      "Layer: model.lstm.layers.1.layer_fw.cell.igate_cgate | Type: <class 'torch.ao.nn.quantized.modules.functional_modules.QFunctional'>\n",
      "Layer: model.lstm.layers.1.layer_fw.cell.igate_cgate.activation_post_process | Type: <class 'torch.nn.modules.linear.Identity'>\n",
      "Layer: model.lstm.layers.1.layer_fw.cell.fgate_cx_igate_cgate | Type: <class 'torch.ao.nn.quantized.modules.functional_modules.QFunctional'>\n",
      "Layer: model.lstm.layers.1.layer_fw.cell.fgate_cx_igate_cgate.activation_post_process | Type: <class 'torch.nn.modules.linear.Identity'>\n",
      "Layer: model.lstm.layers.1.layer_fw.cell.ogate_cy | Type: <class 'torch.ao.nn.quantized.modules.functional_modules.QFunctional'>\n",
      "Layer: model.lstm.layers.1.layer_fw.cell.ogate_cy.activation_post_process | Type: <class 'torch.nn.modules.linear.Identity'>\n",
      "Layer: model.dropout | Type: <class 'torch.ao.nn.quantized.modules.dropout.Dropout'>\n",
      "Layer: model.fc | Type: <class 'torch.ao.nn.quantized.modules.linear.Linear'>\n",
      "Layer: model.fc._packed_params | Type: <class 'torch.ao.nn.quantized.modules.linear.LinearPackedParams'>\n"
     ]
    }
   ],
   "source": [
    "for name, module in static_quantized_model.named_modules():\n",
    "    print(f\"Layer: {name} | Type: {type(module)}\")"
   ]
  },
  {
   "cell_type": "code",
   "execution_count": 210,
   "id": "777bafd7-42a3-498c-8a58-076a1a6f5e18",
   "metadata": {},
   "outputs": [
    {
     "name": "stdout",
     "output_type": "stream",
     "text": [
      "\n",
      "model.lstm.layers.0.layer_fw.cell.igates is a quantized Linear layer\n",
      "Weight type: <class 'torch.Tensor'>\n",
      "Weight dtype: torch.qint8\n",
      "Weight shape: torch.Size([96, 13])\n",
      "---\n",
      "\n",
      "model.lstm.layers.0.layer_fw.cell.hgates is a quantized Linear layer\n",
      "Weight type: <class 'torch.Tensor'>\n",
      "Weight dtype: torch.qint8\n",
      "Weight shape: torch.Size([96, 24])\n",
      "---\n",
      "\n",
      "model.lstm.layers.1.layer_fw.cell.igates is a quantized Linear layer\n",
      "Weight type: <class 'torch.Tensor'>\n",
      "Weight dtype: torch.qint8\n",
      "Weight shape: torch.Size([96, 24])\n",
      "---\n",
      "\n",
      "model.lstm.layers.1.layer_fw.cell.hgates is a quantized Linear layer\n",
      "Weight type: <class 'torch.Tensor'>\n",
      "Weight dtype: torch.qint8\n",
      "Weight shape: torch.Size([96, 24])\n",
      "---\n",
      "\n",
      "model.fc is a quantized Linear layer\n",
      "Weight type: <class 'torch.Tensor'>\n",
      "Weight dtype: torch.qint8\n",
      "Weight shape: torch.Size([10, 24])\n",
      "---\n"
     ]
    }
   ],
   "source": [
    "for name, module in static_quantized_model.named_modules():\n",
    "    if isinstance(module, torch.nn.quantized.Linear):\n",
    "        print(f\"\\n{name} is a quantized Linear layer\")\n",
    "        weight = module.weight()\n",
    "        print(\"Weight type:\", type(weight))\n",
    "        print(\"Weight dtype:\", weight.dtype)\n",
    "        print(\"Weight shape:\", weight.shape)\n",
    "        print(\"---\")"
   ]
  },
  {
   "cell_type": "code",
   "execution_count": 214,
   "id": "bf044e0d-88a6-4b63-bb63-d424ae970f79",
   "metadata": {},
   "outputs": [
    {
     "name": "stdout",
     "output_type": "stream",
     "text": [
      "StaticQuantizableModel(\n",
      "  (quant): Quantize(scale=tensor([1.5930]), zero_point=tensor([191]), dtype=torch.quint8)\n",
      "  (dequant): DeQuantize()\n",
      "  (model): LSTMClassifier(\n",
      "    (lstm): QuantizedLSTM(\n",
      "      (layers): ModuleList(\n",
      "        (0): _LSTMLayer(\n",
      "          (layer_fw): _LSTMSingleLayer(\n",
      "            (cell): QuantizableLSTMCell(\n",
      "              (igates): QuantizedLinear(in_features=13, out_features=96, scale=0.5858701467514038, zero_point=117, qscheme=torch.per_tensor_affine)\n",
      "              (hgates): QuantizedLinear(in_features=24, out_features=96, scale=0.026942884549498558, zero_point=87, qscheme=torch.per_tensor_affine)\n",
      "              (gates): QFunctional(\n",
      "                scale=0.5584437251091003, zero_point=112\n",
      "                (activation_post_process): Identity()\n",
      "              )\n",
      "              (input_gate): Sigmoid()\n",
      "              (forget_gate): Sigmoid()\n",
      "              (cell_gate): Tanh()\n",
      "              (output_gate): Sigmoid()\n",
      "              (fgate_cx): QFunctional(\n",
      "                scale=0.24047569930553436, zero_point=114\n",
      "                (activation_post_process): Identity()\n",
      "              )\n",
      "              (igate_cgate): QFunctional(\n",
      "                scale=0.007839307188987732, zero_point=128\n",
      "                (activation_post_process): Identity()\n",
      "              )\n",
      "              (fgate_cx_igate_cgate): QFunctional(\n",
      "                scale=0.2512454390525818, zero_point=112\n",
      "                (activation_post_process): Identity()\n",
      "              )\n",
      "              (ogate_cy): QFunctional(\n",
      "                scale=0.007831647992134094, zero_point=128\n",
      "                (activation_post_process): Identity()\n",
      "              )\n",
      "            )\n",
      "          )\n",
      "        )\n",
      "        (1): _LSTMLayer(\n",
      "          (layer_fw): _LSTMSingleLayer(\n",
      "            (cell): QuantizableLSTMCell(\n",
      "              (igates): QuantizedLinear(in_features=24, out_features=96, scale=0.02904774248600006, zero_point=65, qscheme=torch.per_tensor_affine)\n",
      "              (hgates): QuantizedLinear(in_features=24, out_features=96, scale=0.039348650723695755, zero_point=116, qscheme=torch.per_tensor_affine)\n",
      "              (gates): QFunctional(\n",
      "                scale=0.04612945020198822, zero_point=83\n",
      "                (activation_post_process): Identity()\n",
      "              )\n",
      "              (input_gate): Sigmoid()\n",
      "              (forget_gate): Sigmoid()\n",
      "              (cell_gate): Tanh()\n",
      "              (output_gate): Sigmoid()\n",
      "              (fgate_cx): QFunctional(\n",
      "                scale=0.12863177061080933, zero_point=141\n",
      "                (activation_post_process): Identity()\n",
      "              )\n",
      "              (igate_cgate): QFunctional(\n",
      "                scale=0.007412780076265335, zero_point=128\n",
      "                (activation_post_process): Identity()\n",
      "              )\n",
      "              (fgate_cx_igate_cgate): QFunctional(\n",
      "                scale=0.13135193288326263, zero_point=141\n",
      "                (activation_post_process): Identity()\n",
      "              )\n",
      "              (ogate_cy): QFunctional(\n",
      "                scale=0.007834996096789837, zero_point=128\n",
      "                (activation_post_process): Identity()\n",
      "              )\n",
      "            )\n",
      "          )\n",
      "        )\n",
      "      )\n",
      "    )\n",
      "    (dropout): QuantizedDropout(p=0.3, inplace=False)\n",
      "    (fc): QuantizedLinear(in_features=24, out_features=10, scale=0.05544514209032059, zero_point=116, qscheme=torch.per_tensor_affine)\n",
      "  )\n",
      ")\n",
      "Quantize(scale=tensor([1.5930]), zero_point=tensor([191]), dtype=torch.quint8)\n",
      "DeQuantize()\n",
      "LSTMClassifier(\n",
      "  (lstm): QuantizedLSTM(\n",
      "    (layers): ModuleList(\n",
      "      (0): _LSTMLayer(\n",
      "        (layer_fw): _LSTMSingleLayer(\n",
      "          (cell): QuantizableLSTMCell(\n",
      "            (igates): QuantizedLinear(in_features=13, out_features=96, scale=0.5858701467514038, zero_point=117, qscheme=torch.per_tensor_affine)\n",
      "            (hgates): QuantizedLinear(in_features=24, out_features=96, scale=0.026942884549498558, zero_point=87, qscheme=torch.per_tensor_affine)\n",
      "            (gates): QFunctional(\n",
      "              scale=0.5584437251091003, zero_point=112\n",
      "              (activation_post_process): Identity()\n",
      "            )\n",
      "            (input_gate): Sigmoid()\n",
      "            (forget_gate): Sigmoid()\n",
      "            (cell_gate): Tanh()\n",
      "            (output_gate): Sigmoid()\n",
      "            (fgate_cx): QFunctional(\n",
      "              scale=0.24047569930553436, zero_point=114\n",
      "              (activation_post_process): Identity()\n",
      "            )\n",
      "            (igate_cgate): QFunctional(\n",
      "              scale=0.007839307188987732, zero_point=128\n",
      "              (activation_post_process): Identity()\n",
      "            )\n",
      "            (fgate_cx_igate_cgate): QFunctional(\n",
      "              scale=0.2512454390525818, zero_point=112\n",
      "              (activation_post_process): Identity()\n",
      "            )\n",
      "            (ogate_cy): QFunctional(\n",
      "              scale=0.007831647992134094, zero_point=128\n",
      "              (activation_post_process): Identity()\n",
      "            )\n",
      "          )\n",
      "        )\n",
      "      )\n",
      "      (1): _LSTMLayer(\n",
      "        (layer_fw): _LSTMSingleLayer(\n",
      "          (cell): QuantizableLSTMCell(\n",
      "            (igates): QuantizedLinear(in_features=24, out_features=96, scale=0.02904774248600006, zero_point=65, qscheme=torch.per_tensor_affine)\n",
      "            (hgates): QuantizedLinear(in_features=24, out_features=96, scale=0.039348650723695755, zero_point=116, qscheme=torch.per_tensor_affine)\n",
      "            (gates): QFunctional(\n",
      "              scale=0.04612945020198822, zero_point=83\n",
      "              (activation_post_process): Identity()\n",
      "            )\n",
      "            (input_gate): Sigmoid()\n",
      "            (forget_gate): Sigmoid()\n",
      "            (cell_gate): Tanh()\n",
      "            (output_gate): Sigmoid()\n",
      "            (fgate_cx): QFunctional(\n",
      "              scale=0.12863177061080933, zero_point=141\n",
      "              (activation_post_process): Identity()\n",
      "            )\n",
      "            (igate_cgate): QFunctional(\n",
      "              scale=0.007412780076265335, zero_point=128\n",
      "              (activation_post_process): Identity()\n",
      "            )\n",
      "            (fgate_cx_igate_cgate): QFunctional(\n",
      "              scale=0.13135193288326263, zero_point=141\n",
      "              (activation_post_process): Identity()\n",
      "            )\n",
      "            (ogate_cy): QFunctional(\n",
      "              scale=0.007834996096789837, zero_point=128\n",
      "              (activation_post_process): Identity()\n",
      "            )\n",
      "          )\n",
      "        )\n",
      "      )\n",
      "    )\n",
      "  )\n",
      "  (dropout): QuantizedDropout(p=0.3, inplace=False)\n",
      "  (fc): QuantizedLinear(in_features=24, out_features=10, scale=0.05544514209032059, zero_point=116, qscheme=torch.per_tensor_affine)\n",
      ")\n",
      "QuantizedLSTM(\n",
      "  (layers): ModuleList(\n",
      "    (0): _LSTMLayer(\n",
      "      (layer_fw): _LSTMSingleLayer(\n",
      "        (cell): QuantizableLSTMCell(\n",
      "          (igates): QuantizedLinear(in_features=13, out_features=96, scale=0.5858701467514038, zero_point=117, qscheme=torch.per_tensor_affine)\n",
      "          (hgates): QuantizedLinear(in_features=24, out_features=96, scale=0.026942884549498558, zero_point=87, qscheme=torch.per_tensor_affine)\n",
      "          (gates): QFunctional(\n",
      "            scale=0.5584437251091003, zero_point=112\n",
      "            (activation_post_process): Identity()\n",
      "          )\n",
      "          (input_gate): Sigmoid()\n",
      "          (forget_gate): Sigmoid()\n",
      "          (cell_gate): Tanh()\n",
      "          (output_gate): Sigmoid()\n",
      "          (fgate_cx): QFunctional(\n",
      "            scale=0.24047569930553436, zero_point=114\n",
      "            (activation_post_process): Identity()\n",
      "          )\n",
      "          (igate_cgate): QFunctional(\n",
      "            scale=0.007839307188987732, zero_point=128\n",
      "            (activation_post_process): Identity()\n",
      "          )\n",
      "          (fgate_cx_igate_cgate): QFunctional(\n",
      "            scale=0.2512454390525818, zero_point=112\n",
      "            (activation_post_process): Identity()\n",
      "          )\n",
      "          (ogate_cy): QFunctional(\n",
      "            scale=0.007831647992134094, zero_point=128\n",
      "            (activation_post_process): Identity()\n",
      "          )\n",
      "        )\n",
      "      )\n",
      "    )\n",
      "    (1): _LSTMLayer(\n",
      "      (layer_fw): _LSTMSingleLayer(\n",
      "        (cell): QuantizableLSTMCell(\n",
      "          (igates): QuantizedLinear(in_features=24, out_features=96, scale=0.02904774248600006, zero_point=65, qscheme=torch.per_tensor_affine)\n",
      "          (hgates): QuantizedLinear(in_features=24, out_features=96, scale=0.039348650723695755, zero_point=116, qscheme=torch.per_tensor_affine)\n",
      "          (gates): QFunctional(\n",
      "            scale=0.04612945020198822, zero_point=83\n",
      "            (activation_post_process): Identity()\n",
      "          )\n",
      "          (input_gate): Sigmoid()\n",
      "          (forget_gate): Sigmoid()\n",
      "          (cell_gate): Tanh()\n",
      "          (output_gate): Sigmoid()\n",
      "          (fgate_cx): QFunctional(\n",
      "            scale=0.12863177061080933, zero_point=141\n",
      "            (activation_post_process): Identity()\n",
      "          )\n",
      "          (igate_cgate): QFunctional(\n",
      "            scale=0.007412780076265335, zero_point=128\n",
      "            (activation_post_process): Identity()\n",
      "          )\n",
      "          (fgate_cx_igate_cgate): QFunctional(\n",
      "            scale=0.13135193288326263, zero_point=141\n",
      "            (activation_post_process): Identity()\n",
      "          )\n",
      "          (ogate_cy): QFunctional(\n",
      "            scale=0.007834996096789837, zero_point=128\n",
      "            (activation_post_process): Identity()\n",
      "          )\n",
      "        )\n",
      "      )\n",
      "    )\n",
      "  )\n",
      ")\n",
      "ModuleList(\n",
      "  (0): _LSTMLayer(\n",
      "    (layer_fw): _LSTMSingleLayer(\n",
      "      (cell): QuantizableLSTMCell(\n",
      "        (igates): QuantizedLinear(in_features=13, out_features=96, scale=0.5858701467514038, zero_point=117, qscheme=torch.per_tensor_affine)\n",
      "        (hgates): QuantizedLinear(in_features=24, out_features=96, scale=0.026942884549498558, zero_point=87, qscheme=torch.per_tensor_affine)\n",
      "        (gates): QFunctional(\n",
      "          scale=0.5584437251091003, zero_point=112\n",
      "          (activation_post_process): Identity()\n",
      "        )\n",
      "        (input_gate): Sigmoid()\n",
      "        (forget_gate): Sigmoid()\n",
      "        (cell_gate): Tanh()\n",
      "        (output_gate): Sigmoid()\n",
      "        (fgate_cx): QFunctional(\n",
      "          scale=0.24047569930553436, zero_point=114\n",
      "          (activation_post_process): Identity()\n",
      "        )\n",
      "        (igate_cgate): QFunctional(\n",
      "          scale=0.007839307188987732, zero_point=128\n",
      "          (activation_post_process): Identity()\n",
      "        )\n",
      "        (fgate_cx_igate_cgate): QFunctional(\n",
      "          scale=0.2512454390525818, zero_point=112\n",
      "          (activation_post_process): Identity()\n",
      "        )\n",
      "        (ogate_cy): QFunctional(\n",
      "          scale=0.007831647992134094, zero_point=128\n",
      "          (activation_post_process): Identity()\n",
      "        )\n",
      "      )\n",
      "    )\n",
      "  )\n",
      "  (1): _LSTMLayer(\n",
      "    (layer_fw): _LSTMSingleLayer(\n",
      "      (cell): QuantizableLSTMCell(\n",
      "        (igates): QuantizedLinear(in_features=24, out_features=96, scale=0.02904774248600006, zero_point=65, qscheme=torch.per_tensor_affine)\n",
      "        (hgates): QuantizedLinear(in_features=24, out_features=96, scale=0.039348650723695755, zero_point=116, qscheme=torch.per_tensor_affine)\n",
      "        (gates): QFunctional(\n",
      "          scale=0.04612945020198822, zero_point=83\n",
      "          (activation_post_process): Identity()\n",
      "        )\n",
      "        (input_gate): Sigmoid()\n",
      "        (forget_gate): Sigmoid()\n",
      "        (cell_gate): Tanh()\n",
      "        (output_gate): Sigmoid()\n",
      "        (fgate_cx): QFunctional(\n",
      "          scale=0.12863177061080933, zero_point=141\n",
      "          (activation_post_process): Identity()\n",
      "        )\n",
      "        (igate_cgate): QFunctional(\n",
      "          scale=0.007412780076265335, zero_point=128\n",
      "          (activation_post_process): Identity()\n",
      "        )\n",
      "        (fgate_cx_igate_cgate): QFunctional(\n",
      "          scale=0.13135193288326263, zero_point=141\n",
      "          (activation_post_process): Identity()\n",
      "        )\n",
      "        (ogate_cy): QFunctional(\n",
      "          scale=0.007834996096789837, zero_point=128\n",
      "          (activation_post_process): Identity()\n",
      "        )\n",
      "      )\n",
      "    )\n",
      "  )\n",
      ")\n",
      "_LSTMLayer(\n",
      "  (layer_fw): _LSTMSingleLayer(\n",
      "    (cell): QuantizableLSTMCell(\n",
      "      (igates): QuantizedLinear(in_features=13, out_features=96, scale=0.5858701467514038, zero_point=117, qscheme=torch.per_tensor_affine)\n",
      "      (hgates): QuantizedLinear(in_features=24, out_features=96, scale=0.026942884549498558, zero_point=87, qscheme=torch.per_tensor_affine)\n",
      "      (gates): QFunctional(\n",
      "        scale=0.5584437251091003, zero_point=112\n",
      "        (activation_post_process): Identity()\n",
      "      )\n",
      "      (input_gate): Sigmoid()\n",
      "      (forget_gate): Sigmoid()\n",
      "      (cell_gate): Tanh()\n",
      "      (output_gate): Sigmoid()\n",
      "      (fgate_cx): QFunctional(\n",
      "        scale=0.24047569930553436, zero_point=114\n",
      "        (activation_post_process): Identity()\n",
      "      )\n",
      "      (igate_cgate): QFunctional(\n",
      "        scale=0.007839307188987732, zero_point=128\n",
      "        (activation_post_process): Identity()\n",
      "      )\n",
      "      (fgate_cx_igate_cgate): QFunctional(\n",
      "        scale=0.2512454390525818, zero_point=112\n",
      "        (activation_post_process): Identity()\n",
      "      )\n",
      "      (ogate_cy): QFunctional(\n",
      "        scale=0.007831647992134094, zero_point=128\n",
      "        (activation_post_process): Identity()\n",
      "      )\n",
      "    )\n",
      "  )\n",
      ")\n",
      "_LSTMSingleLayer(\n",
      "  (cell): QuantizableLSTMCell(\n",
      "    (igates): QuantizedLinear(in_features=13, out_features=96, scale=0.5858701467514038, zero_point=117, qscheme=torch.per_tensor_affine)\n",
      "    (hgates): QuantizedLinear(in_features=24, out_features=96, scale=0.026942884549498558, zero_point=87, qscheme=torch.per_tensor_affine)\n",
      "    (gates): QFunctional(\n",
      "      scale=0.5584437251091003, zero_point=112\n",
      "      (activation_post_process): Identity()\n",
      "    )\n",
      "    (input_gate): Sigmoid()\n",
      "    (forget_gate): Sigmoid()\n",
      "    (cell_gate): Tanh()\n",
      "    (output_gate): Sigmoid()\n",
      "    (fgate_cx): QFunctional(\n",
      "      scale=0.24047569930553436, zero_point=114\n",
      "      (activation_post_process): Identity()\n",
      "    )\n",
      "    (igate_cgate): QFunctional(\n",
      "      scale=0.007839307188987732, zero_point=128\n",
      "      (activation_post_process): Identity()\n",
      "    )\n",
      "    (fgate_cx_igate_cgate): QFunctional(\n",
      "      scale=0.2512454390525818, zero_point=112\n",
      "      (activation_post_process): Identity()\n",
      "    )\n",
      "    (ogate_cy): QFunctional(\n",
      "      scale=0.007831647992134094, zero_point=128\n",
      "      (activation_post_process): Identity()\n",
      "    )\n",
      "  )\n",
      ")\n",
      "QuantizableLSTMCell(\n",
      "  (igates): QuantizedLinear(in_features=13, out_features=96, scale=0.5858701467514038, zero_point=117, qscheme=torch.per_tensor_affine)\n",
      "  (hgates): QuantizedLinear(in_features=24, out_features=96, scale=0.026942884549498558, zero_point=87, qscheme=torch.per_tensor_affine)\n",
      "  (gates): QFunctional(\n",
      "    scale=0.5584437251091003, zero_point=112\n",
      "    (activation_post_process): Identity()\n",
      "  )\n",
      "  (input_gate): Sigmoid()\n",
      "  (forget_gate): Sigmoid()\n",
      "  (cell_gate): Tanh()\n",
      "  (output_gate): Sigmoid()\n",
      "  (fgate_cx): QFunctional(\n",
      "    scale=0.24047569930553436, zero_point=114\n",
      "    (activation_post_process): Identity()\n",
      "  )\n",
      "  (igate_cgate): QFunctional(\n",
      "    scale=0.007839307188987732, zero_point=128\n",
      "    (activation_post_process): Identity()\n",
      "  )\n",
      "  (fgate_cx_igate_cgate): QFunctional(\n",
      "    scale=0.2512454390525818, zero_point=112\n",
      "    (activation_post_process): Identity()\n",
      "  )\n",
      "  (ogate_cy): QFunctional(\n",
      "    scale=0.007831647992134094, zero_point=128\n",
      "    (activation_post_process): Identity()\n",
      "  )\n",
      ")\n",
      "QuantizedLinear(in_features=13, out_features=96, scale=0.5858701467514038, zero_point=117, qscheme=torch.per_tensor_affine)\n",
      "(tensor([[-0.0231,  0.1271,  0.0087,  ..., -0.1502,  0.0116, -0.0433],\n",
      "        [-0.2570, -0.1964,  0.0751,  ...,  0.1906,  0.0982,  0.0809],\n",
      "        [ 0.0116,  0.1964,  0.0318,  ...,  0.0780,  0.1040, -0.1184],\n",
      "        ...,\n",
      "        [-0.1791, -0.1184,  0.1184,  ...,  0.2166,  0.0347, -0.0462],\n",
      "        [ 0.0895,  0.2253,  0.0722,  ...,  0.1155, -0.0462, -0.1588],\n",
      "        [-0.1733,  0.0375, -0.1791,  ...,  0.0549,  0.0029, -0.0404]],\n",
      "       size=(96, 13), dtype=torch.qint8,\n",
      "       quantization_scheme=torch.per_tensor_affine, scale=0.002887972164899111,\n",
      "       zero_point=0), tensor([ 0.2030, -0.0751,  0.0268,  0.2308, -0.0593,  0.0069,  0.2044, -0.1745,\n",
      "        -0.2548,  0.0687,  0.1227,  0.0532,  0.2739,  0.1989,  0.0756,  0.1052,\n",
      "         0.0167,  0.0580, -0.0936,  0.1812,  0.0691, -0.0911, -0.1475, -0.0591,\n",
      "         0.3573,  0.0869,  0.2225,  0.1597,  0.0492,  0.3870, -0.0043, -0.0511,\n",
      "         0.1923,  0.0131,  0.1349,  0.2122, -0.0528,  0.0222,  0.1192,  0.2862,\n",
      "        -0.0203,  0.1795, -0.0810,  0.2028,  0.0606,  0.1921, -0.0374,  0.0775,\n",
      "        -0.0531, -0.1969,  0.2439,  0.1575,  0.1642, -0.0116, -0.2095,  0.0402,\n",
      "         0.0477,  0.1860,  0.2010,  0.0865, -0.1460, -0.0500, -0.0834, -0.0397,\n",
      "         0.2088, -0.0075, -0.0111, -0.1210,  0.1188,  0.1519,  0.2299,  0.1523,\n",
      "         0.2273,  0.0035, -0.0264,  0.1347,  0.0858,  0.4394,  0.1163,  0.0692,\n",
      "         0.1321,  0.1773,  0.2811,  0.3134,  0.2475,  0.2647,  0.3386,  0.0536,\n",
      "         0.1884,  0.0641,  0.0312,  0.1377,  0.2032,  0.2278, -0.0348,  0.2224],\n",
      "       grad_fn=<CopyBackwards>))\n",
      "QuantizedLinear(in_features=24, out_features=96, scale=0.026942884549498558, zero_point=87, qscheme=torch.per_tensor_affine)\n",
      "(tensor([[-0.2647, -0.0474,  0.3042,  ..., -0.2094,  0.3319,  0.0040],\n",
      "        [-0.1343, -0.0751, -0.2134,  ...,  0.0277, -0.0474,  0.0632],\n",
      "        [ 0.0711, -0.0632,  0.2371,  ...,  0.1501, -0.1304, -0.0237],\n",
      "        ...,\n",
      "        [ 0.0988, -0.1897,  0.2252,  ...,  0.2094,  0.3121,  0.2331],\n",
      "        [-0.0474, -0.2015,  0.2608,  ...,  0.3042,  0.3556,  0.2094],\n",
      "        [ 0.0790, -0.2568,  0.1778,  ...,  0.1897,  0.2568,  0.1067]],\n",
      "       size=(96, 24), dtype=torch.qint8,\n",
      "       quantization_scheme=torch.per_tensor_affine, scale=0.003951201681047678,\n",
      "       zero_point=0), tensor([ 0.4143,  0.0263, -0.0541,  0.0802,  0.2584,  0.3327, -0.1131, -0.0254,\n",
      "        -0.0932, -0.0125,  0.1818,  0.1031, -0.0553, -0.0847,  0.0284,  0.1103,\n",
      "         0.0574, -0.1872,  0.0174,  0.0637,  0.1544, -0.0507, -0.1631,  0.0685,\n",
      "         0.0423,  0.1423,  0.2218,  0.2738,  0.2800,  0.3991,  0.2048, -0.0883,\n",
      "         0.1572,  0.2911,  0.1713, -0.0085,  0.1838,  0.0792,  0.2180,  0.3365,\n",
      "         0.1279,  0.1514, -0.0544, -0.0510,  0.0812, -0.0388,  0.2144,  0.3297,\n",
      "        -0.2640, -0.1640,  0.0896,  0.1033,  0.0690,  0.2255, -0.1720, -0.1587,\n",
      "        -0.0465,  0.1568,  0.1963,  0.1092, -0.1970, -0.1084, -0.0315, -0.0831,\n",
      "         0.1661,  0.0902,  0.0825,  0.1374,  0.2302, -0.1525,  0.0493,  0.2037,\n",
      "         0.0859,  0.0431,  0.0898,  0.0526, -0.0327,  0.4482,  0.2327,  0.0977,\n",
      "         0.2251,  0.2810,  0.1083,  0.1064,  0.0799,  0.1420,  0.1721, -0.0216,\n",
      "         0.0961, -0.0494,  0.0321, -0.0885,  0.2991,  0.2290,  0.0549,  0.0878],\n",
      "       grad_fn=<CopyBackwards>))\n",
      "QFunctional(\n",
      "  scale=0.5584437251091003, zero_point=112\n",
      "  (activation_post_process): Identity()\n",
      ")\n",
      "Identity()\n",
      "Sigmoid()\n",
      "Sigmoid()\n",
      "Tanh()\n",
      "Sigmoid()\n",
      "QFunctional(\n",
      "  scale=0.24047569930553436, zero_point=114\n",
      "  (activation_post_process): Identity()\n",
      ")\n",
      "Identity()\n",
      "QFunctional(\n",
      "  scale=0.007839307188987732, zero_point=128\n",
      "  (activation_post_process): Identity()\n",
      ")\n",
      "Identity()\n",
      "QFunctional(\n",
      "  scale=0.2512454390525818, zero_point=112\n",
      "  (activation_post_process): Identity()\n",
      ")\n",
      "Identity()\n",
      "QFunctional(\n",
      "  scale=0.007831647992134094, zero_point=128\n",
      "  (activation_post_process): Identity()\n",
      ")\n",
      "Identity()\n",
      "_LSTMLayer(\n",
      "  (layer_fw): _LSTMSingleLayer(\n",
      "    (cell): QuantizableLSTMCell(\n",
      "      (igates): QuantizedLinear(in_features=24, out_features=96, scale=0.02904774248600006, zero_point=65, qscheme=torch.per_tensor_affine)\n",
      "      (hgates): QuantizedLinear(in_features=24, out_features=96, scale=0.039348650723695755, zero_point=116, qscheme=torch.per_tensor_affine)\n",
      "      (gates): QFunctional(\n",
      "        scale=0.04612945020198822, zero_point=83\n",
      "        (activation_post_process): Identity()\n",
      "      )\n",
      "      (input_gate): Sigmoid()\n",
      "      (forget_gate): Sigmoid()\n",
      "      (cell_gate): Tanh()\n",
      "      (output_gate): Sigmoid()\n",
      "      (fgate_cx): QFunctional(\n",
      "        scale=0.12863177061080933, zero_point=141\n",
      "        (activation_post_process): Identity()\n",
      "      )\n",
      "      (igate_cgate): QFunctional(\n",
      "        scale=0.007412780076265335, zero_point=128\n",
      "        (activation_post_process): Identity()\n",
      "      )\n",
      "      (fgate_cx_igate_cgate): QFunctional(\n",
      "        scale=0.13135193288326263, zero_point=141\n",
      "        (activation_post_process): Identity()\n",
      "      )\n",
      "      (ogate_cy): QFunctional(\n",
      "        scale=0.007834996096789837, zero_point=128\n",
      "        (activation_post_process): Identity()\n",
      "      )\n",
      "    )\n",
      "  )\n",
      ")\n",
      "_LSTMSingleLayer(\n",
      "  (cell): QuantizableLSTMCell(\n",
      "    (igates): QuantizedLinear(in_features=24, out_features=96, scale=0.02904774248600006, zero_point=65, qscheme=torch.per_tensor_affine)\n",
      "    (hgates): QuantizedLinear(in_features=24, out_features=96, scale=0.039348650723695755, zero_point=116, qscheme=torch.per_tensor_affine)\n",
      "    (gates): QFunctional(\n",
      "      scale=0.04612945020198822, zero_point=83\n",
      "      (activation_post_process): Identity()\n",
      "    )\n",
      "    (input_gate): Sigmoid()\n",
      "    (forget_gate): Sigmoid()\n",
      "    (cell_gate): Tanh()\n",
      "    (output_gate): Sigmoid()\n",
      "    (fgate_cx): QFunctional(\n",
      "      scale=0.12863177061080933, zero_point=141\n",
      "      (activation_post_process): Identity()\n",
      "    )\n",
      "    (igate_cgate): QFunctional(\n",
      "      scale=0.007412780076265335, zero_point=128\n",
      "      (activation_post_process): Identity()\n",
      "    )\n",
      "    (fgate_cx_igate_cgate): QFunctional(\n",
      "      scale=0.13135193288326263, zero_point=141\n",
      "      (activation_post_process): Identity()\n",
      "    )\n",
      "    (ogate_cy): QFunctional(\n",
      "      scale=0.007834996096789837, zero_point=128\n",
      "      (activation_post_process): Identity()\n",
      "    )\n",
      "  )\n",
      ")\n",
      "QuantizableLSTMCell(\n",
      "  (igates): QuantizedLinear(in_features=24, out_features=96, scale=0.02904774248600006, zero_point=65, qscheme=torch.per_tensor_affine)\n",
      "  (hgates): QuantizedLinear(in_features=24, out_features=96, scale=0.039348650723695755, zero_point=116, qscheme=torch.per_tensor_affine)\n",
      "  (gates): QFunctional(\n",
      "    scale=0.04612945020198822, zero_point=83\n",
      "    (activation_post_process): Identity()\n",
      "  )\n",
      "  (input_gate): Sigmoid()\n",
      "  (forget_gate): Sigmoid()\n",
      "  (cell_gate): Tanh()\n",
      "  (output_gate): Sigmoid()\n",
      "  (fgate_cx): QFunctional(\n",
      "    scale=0.12863177061080933, zero_point=141\n",
      "    (activation_post_process): Identity()\n",
      "  )\n",
      "  (igate_cgate): QFunctional(\n",
      "    scale=0.007412780076265335, zero_point=128\n",
      "    (activation_post_process): Identity()\n",
      "  )\n",
      "  (fgate_cx_igate_cgate): QFunctional(\n",
      "    scale=0.13135193288326263, zero_point=141\n",
      "    (activation_post_process): Identity()\n",
      "  )\n",
      "  (ogate_cy): QFunctional(\n",
      "    scale=0.007834996096789837, zero_point=128\n",
      "    (activation_post_process): Identity()\n",
      "  )\n",
      ")\n",
      "QuantizedLinear(in_features=24, out_features=96, scale=0.02904774248600006, zero_point=65, qscheme=torch.per_tensor_affine)\n",
      "(tensor([[-0.0787, -0.1760,  0.2177,  ...,  0.0324,  0.1621,  0.2223],\n",
      "        [-0.1853, -0.0741,  0.3011,  ..., -0.0463,  0.0741, -0.1436],\n",
      "        [-0.1343, -0.2316, -0.1945,  ..., -0.1714,  0.2779, -0.2779],\n",
      "        ...,\n",
      "        [-0.1621, -0.3335,  0.2269,  ..., -0.2084,  0.0139,  0.2872],\n",
      "        [-0.2918, -0.1899,  0.1343,  ..., -0.2594, -0.0046,  0.1204],\n",
      "        [-0.2964, -0.1389, -0.0417,  ...,  0.0695,  0.0232,  0.0880]],\n",
      "       size=(96, 24), dtype=torch.qint8,\n",
      "       quantization_scheme=torch.per_tensor_affine, scale=0.004631555173546076,\n",
      "       zero_point=0), tensor([ 0.0945,  0.1370, -0.1984, -0.0439, -0.2024,  0.0613, -0.0054,  0.2321,\n",
      "         0.1512,  0.2460,  0.2172,  0.0573, -0.0223, -0.0209, -0.0611,  0.0341,\n",
      "         0.0619, -0.1453,  0.2010, -0.1675, -0.0495,  0.0444,  0.0101,  0.0772,\n",
      "         0.0831,  0.3118,  0.0553,  0.1083,  0.1255, -0.0037,  0.3595,  0.0574,\n",
      "         0.1010,  0.3620,  0.2614,  0.0572,  0.0584,  0.2588,  0.1469,  0.0964,\n",
      "         0.2499,  0.4774,  0.2098,  0.1105,  0.2458,  0.2405, -0.0397,  0.3304,\n",
      "         0.0795, -0.0821,  0.1318,  0.1084, -0.0705,  0.1393,  0.1343, -0.0700,\n",
      "         0.1154,  0.0048,  0.1517,  0.1237,  0.1238, -0.1701, -0.0630,  0.1467,\n",
      "        -0.0773, -0.1922,  0.1539, -0.1033, -0.1295,  0.0141,  0.0139, -0.1188,\n",
      "         0.4322,  0.2720, -0.0420,  0.0600,  0.0769,  0.1752,  0.0060,  0.0225,\n",
      "         0.1092,  0.2340,  0.1202,  0.2756,  0.2490,  0.0303,  0.1612,  0.1749,\n",
      "         0.2650,  0.1707,  0.2153,  0.0031,  0.1223,  0.1988,  0.3497,  0.2553],\n",
      "       grad_fn=<CopyBackwards>))\n",
      "QuantizedLinear(in_features=24, out_features=96, scale=0.039348650723695755, zero_point=116, qscheme=torch.per_tensor_affine)\n",
      "(tensor([[ 0.1429,  0.0673,  0.2817,  ...,  0.0883,  0.0420, -0.0084],\n",
      "        [-0.0547,  0.0589, -0.0420,  ...,  0.1387, -0.1640,  0.1135],\n",
      "        [ 0.0715, -0.0210,  0.0378,  ...,  0.0799, -0.0126,  0.0841],\n",
      "        ...,\n",
      "        [ 0.0168, -0.3111,  0.0715,  ...,  0.1892,  0.0757,  0.0168],\n",
      "        [ 0.0042,  0.0084,  0.2859,  ...,  0.0210,  0.1724,  0.1429],\n",
      "        [-0.2102, -0.1471, -0.0252,  ...,  0.0925, -0.0757, -0.1219]],\n",
      "       size=(96, 24), dtype=torch.qint8,\n",
      "       quantization_scheme=torch.per_tensor_affine, scale=0.00420398497954011,\n",
      "       zero_point=0), tensor([ 0.1729,  0.1262, -0.1565,  0.1615, -0.0549,  0.1095,  0.0693,  0.2386,\n",
      "        -0.0603,  0.0481,  0.1282,  0.0196,  0.0166,  0.1794, -0.0277, -0.0090,\n",
      "        -0.0987, -0.0521, -0.0646,  0.0747, -0.1150, -0.1217, -0.0020,  0.2110,\n",
      "         0.0910,  0.0995,  0.2619,  0.3003, -0.0667,  0.2053,  0.3269,  0.1941,\n",
      "         0.0791,  0.3785, -0.0401, -0.0291,  0.2819,  0.1585,  0.2227, -0.0179,\n",
      "        -0.0045,  0.2744, -0.0645, -0.1242, -0.0082,  0.1288,  0.2137,  0.2598,\n",
      "         0.1162,  0.1160,  0.0013, -0.1168,  0.1282, -0.1638, -0.1443, -0.1534,\n",
      "        -0.0453,  0.1192, -0.0231,  0.0958, -0.2143, -0.0466, -0.0169,  0.0644,\n",
      "         0.0767,  0.1742,  0.1895,  0.1453,  0.0553, -0.1090,  0.1451,  0.0830,\n",
      "         0.1948, -0.0301,  0.1297,  0.2009,  0.2328, -0.0426,  0.3567,  0.0423,\n",
      "         0.1263,  0.4276, -0.0029,  0.1954,  0.4532, -0.0792,  0.1169,  0.0248,\n",
      "         0.0314,  0.3490,  0.1780,  0.1922,  0.1286,  0.1807,  0.3717,  0.2151],\n",
      "       grad_fn=<CopyBackwards>))\n",
      "QFunctional(\n",
      "  scale=0.04612945020198822, zero_point=83\n",
      "  (activation_post_process): Identity()\n",
      ")\n",
      "Identity()\n",
      "Sigmoid()\n",
      "Sigmoid()\n",
      "Tanh()\n",
      "Sigmoid()\n",
      "QFunctional(\n",
      "  scale=0.12863177061080933, zero_point=141\n",
      "  (activation_post_process): Identity()\n",
      ")\n",
      "Identity()\n",
      "QFunctional(\n",
      "  scale=0.007412780076265335, zero_point=128\n",
      "  (activation_post_process): Identity()\n",
      ")\n",
      "Identity()\n",
      "QFunctional(\n",
      "  scale=0.13135193288326263, zero_point=141\n",
      "  (activation_post_process): Identity()\n",
      ")\n",
      "Identity()\n",
      "QFunctional(\n",
      "  scale=0.007834996096789837, zero_point=128\n",
      "  (activation_post_process): Identity()\n",
      ")\n",
      "Identity()\n",
      "QuantizedDropout(p=0.3, inplace=False)\n",
      "QuantizedLinear(in_features=24, out_features=10, scale=0.05544514209032059, zero_point=116, qscheme=torch.per_tensor_affine)\n",
      "(tensor([[-0.4427, -0.5262,  0.4928,  0.1921, -0.6432, -0.6849, -0.1336, -0.2422,\n",
      "         -0.2840,  0.4845, -0.1253, -0.2756,  0.1504,  0.4009,  0.7518,  0.6849,\n",
      "         -0.1253,  0.1504, -0.3842,  0.0084, -0.4761,  0.3592,  0.0668,  0.3759],\n",
      "        [-0.2840,  0.3759, -0.4093,  0.3592,  0.3174,  0.1002, -0.5262,  0.2756,\n",
      "          0.3926, -0.3842,  0.2840,  0.1921,  0.4260,  0.4260, -0.3341, -0.4093,\n",
      "          0.0000,  0.2756,  0.0167,  0.0668,  0.3425, -0.1504,  0.1921,  0.2255],\n",
      "        [-0.5429, -0.4678, -0.2589, -0.4093,  0.0084,  0.0501,  0.2756, -0.2339,\n",
      "         -0.2422, -0.6265,  0.1921, -0.4678, -0.5012,  0.2506,  0.3592,  0.4678,\n",
      "         -0.0668,  0.4845,  0.0251,  0.0000,  0.2506,  0.2506, -0.3007, -0.4761],\n",
      "        [ 0.3926, -0.3425, -0.2255, -0.4344,  0.1420,  0.3091,  0.4427,  0.0835,\n",
      "         -0.2255, -0.1336,  0.3007, -0.3007, -0.4594,  0.0752,  0.0752,  0.1921,\n",
      "          1.0608,  0.5179,  0.3091, -0.3592,  0.2172, -0.5597, -0.6014, -0.1754],\n",
      "        [ 0.6515,  0.2172,  0.3425,  0.2172,  0.0501,  0.1504, -0.4093, -0.2339,\n",
      "          0.1838,  0.4761, -0.3258,  0.3341,  0.2840, -0.2589, -0.4009,  0.6014,\n",
      "         -0.1169, -0.4260, -0.7518,  0.4093, -0.4427,  0.0919,  0.1754,  0.1420],\n",
      "        [-0.4009,  0.2673, -0.1336,  0.1754, -0.1504,  0.1169, -0.2422,  0.4344,\n",
      "          0.3842, -0.4260, -0.6766,  0.3425,  0.2339, -0.5764, -0.1587, -0.5346,\n",
      "         -0.0668, -0.3842,  0.2088,  0.3174, -0.8019,  0.2255,  0.3007,  0.0334],\n",
      "        [ 0.3759, -0.0418,  0.2673,  0.1671, -0.0251, -0.3842,  0.1921,  0.4678,\n",
      "          0.1002,  0.5179, -0.5513, -0.0835, -0.4344,  0.5095, -0.3091, -0.2422,\n",
      "          0.0585, -0.4260,  0.2589, -0.2005,  0.4427,  0.2005,  0.3425, -0.3174],\n",
      "        [-0.1504,  0.4344, -0.4177,  0.2088,  0.2673,  0.3842,  0.6348, -0.2422,\n",
      "         -0.4177, -0.1336,  0.1504, -0.5262,  0.3592, -0.3592, -0.1504, -0.3592,\n",
      "         -0.1754,  0.4761, -0.0835,  0.4678,  0.0668,  0.2506, -0.3842,  0.2005],\n",
      "        [ 0.2506, -0.0752, -0.1838, -0.4427,  0.0418,  0.4511,  0.3508, -0.2005,\n",
      "         -0.3091,  0.6432,  0.3341,  0.4845, -0.2506,  0.4511, -0.3174,  0.1838,\n",
      "         -0.1420, -0.1587, -0.0835, -0.3341,  0.0585, -0.5931, -0.0919, -0.4511],\n",
      "        [-0.2339, -0.4177,  0.0000,  0.1169, -0.0501,  0.2172, -0.6181, -0.0668,\n",
      "          0.6682, -0.3592,  0.4594, -0.4177,  0.4845, -0.3425,  0.7267, -0.1921,\n",
      "          0.0000,  0.4594,  0.1921,  0.1671,  0.0251,  0.1253, -0.3842,  0.1420]],\n",
      "       size=(10, 24), dtype=torch.qint8,\n",
      "       quantization_scheme=torch.per_tensor_affine, scale=0.008353019133210182,\n",
      "       zero_point=0), tensor([ 0.0287,  0.2015,  0.1994,  0.1022, -0.1877, -0.1856,  0.1291,  0.1093,\n",
      "        -0.0257,  0.1464], grad_fn=<CopyBackwards>))\n"
     ]
    }
   ],
   "source": [
    "import numpy as np\n",
    "\n",
    "for name, module in static_quantized_model.named_modules():\n",
    "    print(module)\n",
    "    if hasattr(module, 'weight') and isinstance(module.weight, torch.Tensor):\n",
    "        weight_tensor = module.weight()\n",
    "        if weight_tensor.is_quantized:\n",
    "            byte_size = weight_tensor.int_repr().element_size() * weight_tensor.int_repr().nelement()\n",
    "            print(f\"{name} quantized weight size: {byte_size / 1024:.4f} KB\")"
   ]
  },
  {
   "cell_type": "code",
   "execution_count": 215,
   "id": "215a22e9-cbcb-4d87-bd7b-6e61ab801874",
   "metadata": {},
   "outputs": [
    {
     "name": "stdout",
     "output_type": "stream",
     "text": [
      "Estimated FP32 size: 32.81 KB\n",
      "Estimated INT8 size: 8.20 KB\n",
      "Compression ratio: 4.00x\n"
     ]
    }
   ],
   "source": [
    "total_fp32_bytes = 0\n",
    "total_int8_bytes = 0\n",
    "\n",
    "for name, module in static_quantized_model.named_modules():\n",
    "    if isinstance(module, torch.nn.quantized.Linear):\n",
    "        weight = module.weight()\n",
    "        if weight.is_quantized:\n",
    "            num_elements = weight.numel()\n",
    "            total_fp32_bytes += num_elements * 4  # FP32\n",
    "            total_int8_bytes += num_elements * 1  # INT8\n",
    "\n",
    "print(f\"Estimated FP32 size: {total_fp32_bytes / 1024:.2f} KB\")\n",
    "print(f\"Estimated INT8 size: {total_int8_bytes / 1024:.2f} KB\")\n",
    "print(f\"Compression ratio: {total_fp32_bytes / total_int8_bytes:.2f}x\")"
   ]
  },
  {
   "cell_type": "code",
   "execution_count": null,
   "id": "00780a3a-9da7-40a0-9345-9c12d99691a1",
   "metadata": {},
   "outputs": [],
   "source": []
  },
  {
   "cell_type": "code",
   "execution_count": null,
   "id": "06da5ce2-2fc8-4e65-b488-d3460ac954aa",
   "metadata": {},
   "outputs": [],
   "source": []
  },
  {
   "cell_type": "code",
   "execution_count": null,
   "id": "5b30ad39-56ec-4db5-92d7-3abf02ddec7c",
   "metadata": {},
   "outputs": [],
   "source": []
  },
  {
   "cell_type": "code",
   "execution_count": null,
   "id": "09ca2fb5-ffd4-4514-9649-71d08c81768f",
   "metadata": {},
   "outputs": [],
   "source": []
  },
  {
   "cell_type": "code",
   "execution_count": null,
   "id": "e954b0de-801c-48bc-b38f-6852574e6786",
   "metadata": {},
   "outputs": [],
   "source": []
  },
  {
   "cell_type": "markdown",
   "id": "58bd6058-17dd-43e8-85d7-35c31190adab",
   "metadata": {
    "jp-MarkdownHeadingCollapsed": true
   },
   "source": [
    "## Total Parameters for 1-Layer LSTM\n",
    "\n",
    "For a single LSTM layer, with the same input and output dimensions (13 MFCC coefficients and 10 output classes), the total number of parameters simplifies to:\n",
    "\n",
    "$$\n",
    "\\text{Total Parameters} = 4h^2 + 70h + 10\n",
    "$$"
   ]
  },
  {
   "cell_type": "code",
   "execution_count": null,
   "id": "2a2d68ab-da15-49de-be24-b6c5b3d58a84",
   "metadata": {},
   "outputs": [],
   "source": []
  }
 ],
 "metadata": {
  "kernelspec": {
   "display_name": "Python (spectgramer)",
   "language": "python",
   "name": "innatera-kernel"
  },
  "language_info": {
   "codemirror_mode": {
    "name": "ipython",
    "version": 3
   },
   "file_extension": ".py",
   "mimetype": "text/x-python",
   "name": "python",
   "nbconvert_exporter": "python",
   "pygments_lexer": "ipython3",
   "version": "3.10.12"
  }
 },
 "nbformat": 4,
 "nbformat_minor": 5
}
