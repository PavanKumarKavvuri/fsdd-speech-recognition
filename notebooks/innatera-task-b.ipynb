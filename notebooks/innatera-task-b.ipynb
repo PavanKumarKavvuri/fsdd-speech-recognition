{
 "cells": [
  {
   "cell_type": "markdown",
   "id": "074e24f9-a286-43cd-965b-1c41044ee99b",
   "metadata": {},
   "source": [
    "# LSTM for Spoken Digit Classification\n",
    "\n",
    "This notebook builds and trains a recurrent neural network (LSTM) to classify spoken digits (0–9) from audio recordings.\n",
    "\n",
    "- Dataset: [Free Spoken Digit Dataset (FSDD)](https://github.com/Jakobovski/free-spoken-digit-dataset)\n",
    "- Framework: PyTorch\n",
    "- Architecture: RNN with LSTM layers"
   ]
  },
  {
   "cell_type": "code",
   "execution_count": 162,
   "id": "ac121864-dea8-4206-b0d1-1acbdc0002dc",
   "metadata": {},
   "outputs": [],
   "source": [
    "import sys\n",
    "import os\n",
    "\n",
    "# Add the project root (parent of current folder) to Python path\n",
    "project_root_dir = os.path.abspath(os.path.join(os.getcwd(), '..'))\n",
    "sys.path.append(project_root_dir)\n"
   ]
  },
  {
   "cell_type": "markdown",
   "id": "a907bf1a-f498-4c4b-941a-1ec9859a6dbc",
   "metadata": {},
   "source": [
    "## Load Model Configuration from YAML\n",
    "\n",
    "To make the training pipeline configurable and modular, we store model parameters like number of LSTM layers, hidden size, and learning rate etc in a YAML file. This structure enables quick adaptation to related tasks B, and C.\n",
    "\n",
    "This section loads the model configuration using a custom utility function."
   ]
  },
  {
   "cell_type": "code",
   "execution_count": 163,
   "id": "fc007882-2f6c-4e2e-9a19-18eb3a3dd549",
   "metadata": {},
   "outputs": [],
   "source": [
    "import src.utils as utils"
   ]
  },
  {
   "cell_type": "code",
   "execution_count": 164,
   "id": "f5efd2eb-0415-43c9-ba38-492a135899d5",
   "metadata": {},
   "outputs": [
    {
     "name": "stdout",
     "output_type": "stream",
     "text": [
      "[INFO] Random seed set to: 42\n"
     ]
    }
   ],
   "source": [
    "utils.set_seed(42)"
   ]
  },
  {
   "cell_type": "code",
   "execution_count": 165,
   "id": "51de20a8-e68c-40e3-b17b-f2cc330329ec",
   "metadata": {},
   "outputs": [],
   "source": [
    "import yaml\n",
    "import json\n",
    "\n",
    "model_config_path = os.path.join(project_root_dir, 'config', 'model_config.yaml')\n",
    "model_config = utils.read_yaml_file(model_config_path)\n",
    "# print(json.dumps(model_config, indent=2))"
   ]
  },
  {
   "cell_type": "markdown",
   "id": "70db000b-c161-4faf-b555-80a64696bed4",
   "metadata": {},
   "source": [
    "## Load and Split Dataset for Training and Evaluation\n",
    "\n",
    "In this section, we load the recordings data from disk, generate data-label pairs, and split them into training and test sets according to the `test_size` defined in the YAML file.\n",
    "\n",
    "Using `test_size` and `seed` from the YAML config ensures that experiments are reproducible and easily tunable for other tasks by simply updating the configuration.\n"
   ]
  },
  {
   "cell_type": "code",
   "execution_count": 166,
   "id": "fd4c30c2-fdc9-4d1f-8491-8948e8a844c8",
   "metadata": {},
   "outputs": [],
   "source": [
    "data_path = model_config['dataset']['path']\n",
    "test_data_size = model_config['data_splitting']['test_size']\n",
    "seed = model_config['experiment']['seed']"
   ]
  },
  {
   "cell_type": "code",
   "execution_count": 167,
   "id": "3f2e678e-b078-4b6d-8788-4807fc2912a2",
   "metadata": {},
   "outputs": [],
   "source": [
    "data_label_pairs = utils.prepare_data_label_pairs(data_path)"
   ]
  },
  {
   "cell_type": "code",
   "execution_count": 168,
   "id": "d5b6e981-6360-4c48-bf87-4d722523a02b",
   "metadata": {},
   "outputs": [],
   "source": [
    "from sklearn.model_selection import train_test_split\n",
    "train_data, test_data = train_test_split(data_label_pairs, test_size=test_data_size, random_state=seed)"
   ]
  },
  {
   "cell_type": "markdown",
   "id": "a9e8a06f-d118-462d-987e-c5ee7363933c",
   "metadata": {},
   "source": [
    "## Transform Raw Data into PyTorch Dataset Objects\n",
    "\n",
    "The `AudioFeaturesDataset` class converts raw data-label pairs into PyTorch-compatible datasets that provide easy access to samples and labels.\n",
    "\n",
    "AudioFeaturesDataset is a custom dataset class that:\n",
    "\n",
    "- Loads audio recordings of spoken digits along with their labels.\n",
    "- Optionally cleans the audio by filtering out noise.\n",
    "- Extracts MFCC features (a common speech feature).\n",
    "- Pads or trims these features to a fixed length so all inputs have the same shape.\n",
    "- Works with PyTorch to provide samples one-by-one when training or testing a model.\n",
    "- It helps prepare your audio data in the right format for training neural networks efficiently.\n"
   ]
  },
  {
   "cell_type": "code",
   "execution_count": 169,
   "id": "d7a181bb-fce0-4dc5-aba6-b0cc522854d3",
   "metadata": {},
   "outputs": [],
   "source": [
    "from src.data_preprocessor import AudioFeaturesDataset\n",
    "\n",
    "train_dataset = AudioFeaturesDataset(train_data)\n",
    "test_dataset = AudioFeaturesDataset(test_data)"
   ]
  },
  {
   "cell_type": "code",
   "execution_count": 170,
   "id": "4121f284-fd0e-49aa-a47b-ebfde0f1e4a6",
   "metadata": {},
   "outputs": [
    {
     "name": "stdout",
     "output_type": "stream",
     "text": [
      "Train size: 2400\n",
      "Test size: 600\n"
     ]
    }
   ],
   "source": [
    "print(f\"Train size: {len(train_dataset)}\")\n",
    "print(f\"Test size: {len(test_dataset)}\")"
   ]
  },
  {
   "cell_type": "markdown",
   "id": "0682500e-8660-481b-a3a8-823d4e824486",
   "metadata": {},
   "source": [
    "## Create DataLoaders for Batch Processing\n",
    "\n",
    "Using PyTorch DataLoaders, we enable efficient loading, batching, and shuffling of data during training and evaluation."
   ]
  },
  {
   "cell_type": "code",
   "execution_count": 171,
   "id": "a2957cdf-bee7-4877-87c8-c4eeb186b190",
   "metadata": {},
   "outputs": [],
   "source": [
    "import torch\n",
    "\n",
    "train_loader = torch.utils.data.DataLoader(train_dataset, batch_size=32, shuffle=True)\n",
    "test_loader = torch.utils.data.DataLoader(test_dataset, batch_size=32, shuffle=False)"
   ]
  },
  {
   "cell_type": "markdown",
   "id": "533f7c9b-69cc-4239-837f-c1c82e9f3695",
   "metadata": {},
   "source": [
    "## LSTM Model Definition\n",
    "\n",
    "A simple `n`-layer LSTM followed by a fully connected output layer. Variable `n` is defined in the configuration YAML file"
   ]
  },
  {
   "cell_type": "code",
   "execution_count": 172,
   "id": "a30ecd48-25db-4e42-92e7-173fd8894e28",
   "metadata": {},
   "outputs": [],
   "source": [
    "input_dim = model_config['model']['input_dim']\n",
    "hidden_dim = model_config['model']['hidden_dim']\n",
    "num_layers = model_config['model']['num_layers']\n",
    "output_dim = model_config['model']['output_dim']"
   ]
  },
  {
   "cell_type": "code",
   "execution_count": 173,
   "id": "b6a3b93e-82ab-4347-99ef-5be89844a4c9",
   "metadata": {},
   "outputs": [],
   "source": [
    "device = torch.device(\"cuda\" if torch.cuda.is_available() else \"cpu\")"
   ]
  },
  {
   "cell_type": "code",
   "execution_count": 174,
   "id": "acc6726e-a78c-4846-900e-d1f38377c3a5",
   "metadata": {},
   "outputs": [],
   "source": [
    "import src.model as model\n",
    "import torch.nn as nn\n",
    "import torch.optim as optim\n",
    "\n",
    "float_model = model.LSTMClassifier(input_dim=input_dim,\n",
    "                       hidden_dim=hidden_dim,\n",
    "                       num_layers=num_layers,\n",
    "                       output_dim=output_dim).to(device)"
   ]
  },
  {
   "cell_type": "markdown",
   "id": "c8b334d1-1991-454e-9b55-4621c7c63362",
   "metadata": {},
   "source": [
    "## Training Loop"
   ]
  },
  {
   "cell_type": "code",
   "execution_count": 175,
   "id": "3b4bcea8-c7ff-46d4-b391-78c08e05adaa",
   "metadata": {},
   "outputs": [],
   "source": [
    "learning_rate = model_config['training']['learning_rate']\n",
    "epochs = model_config['training']['epochs']"
   ]
  },
  {
   "cell_type": "code",
   "execution_count": 176,
   "id": "59d97af0-0fa0-44c6-a66e-68805db8fc70",
   "metadata": {},
   "outputs": [],
   "source": [
    "from src.train import ModelTrainer\n",
    "trainer_instance = ModelTrainer(\n",
    "    float_model, \n",
    "    epochs,\n",
    "    train_loader,\n",
    "    device,\n",
    "    learning_rate\n",
    ")"
   ]
  },
  {
   "cell_type": "code",
   "execution_count": 177,
   "id": "b93e3b2c-3a36-4320-99a8-4ec297bd853a",
   "metadata": {},
   "outputs": [
    {
     "name": "stdout",
     "output_type": "stream",
     "text": [
      "Epoch [1/20], Loss: 134.0127, Accuracy: 57.67%\n",
      "Epoch [2/20], Loss: 49.1018, Accuracy: 86.17%\n",
      "Epoch [3/20], Loss: 21.3893, Accuracy: 96.75%\n",
      "Epoch [4/20], Loss: 12.2558, Accuracy: 96.42%\n",
      "Epoch [5/20], Loss: 9.3282, Accuracy: 98.12%\n",
      "Epoch [6/20], Loss: 6.7593, Accuracy: 96.42%\n",
      "Epoch [7/20], Loss: 5.2892, Accuracy: 98.58%\n",
      "Epoch [8/20], Loss: 4.0651, Accuracy: 99.17%\n",
      "Epoch [9/20], Loss: 1.7189, Accuracy: 99.33%\n",
      "Epoch [10/20], Loss: 1.9559, Accuracy: 99.79%\n",
      "Epoch [11/20], Loss: 3.8065, Accuracy: 95.79%\n",
      "Epoch [12/20], Loss: 3.7462, Accuracy: 99.79%\n",
      "Epoch [13/20], Loss: 1.1268, Accuracy: 99.79%\n",
      "Epoch [14/20], Loss: 1.7250, Accuracy: 99.08%\n",
      "Epoch [15/20], Loss: 2.5933, Accuracy: 99.62%\n",
      "Epoch [16/20], Loss: 2.1036, Accuracy: 99.25%\n",
      "Epoch [17/20], Loss: 1.4843, Accuracy: 99.67%\n",
      "Epoch [18/20], Loss: 0.4845, Accuracy: 99.92%\n",
      "Epoch [19/20], Loss: 0.8350, Accuracy: 100.00%\n",
      "Epoch [20/20], Loss: 0.1467, Accuracy: 100.00%\n"
     ]
    }
   ],
   "source": [
    "trainer_instance.train()"
   ]
  },
  {
   "cell_type": "code",
   "execution_count": 178,
   "id": "dbd17cd3-e337-43b2-b8fd-08297ef05941",
   "metadata": {},
   "outputs": [
    {
     "name": "stdout",
     "output_type": "stream",
     "text": [
      "\n",
      "Layer-wise parameter counts:\n",
      "lstm.weight_ih_l0              -> 6,656 params\n",
      "lstm.weight_hh_l0              -> 65,536 params\n",
      "lstm.bias_ih_l0                -> 512 params\n",
      "lstm.bias_hh_l0                -> 512 params\n",
      "lstm.weight_ih_l1              -> 65,536 params\n",
      "lstm.weight_hh_l1              -> 65,536 params\n",
      "lstm.bias_ih_l1                -> 512 params\n",
      "lstm.bias_hh_l1                -> 512 params\n",
      "fc.weight                      -> 1,280 params\n",
      "fc.bias                        -> 10 params\n",
      "\n",
      "\n",
      " Total Parameters: 206,602\n",
      "Estimated Memory: 807.04 KB (0.79 MB)\n"
     ]
    }
   ],
   "source": [
    "_, _ = utils.get_model_params_size(float_model)"
   ]
  },
  {
   "cell_type": "markdown",
   "id": "5e192852-2d93-484f-b4f1-69f4689d730f",
   "metadata": {},
   "source": [
    "## Evaluation & Visualization"
   ]
  },
  {
   "cell_type": "code",
   "execution_count": 179,
   "id": "85f947da-ba60-44fc-9d7d-1554804a6f18",
   "metadata": {},
   "outputs": [],
   "source": [
    "from src.evaluate import ModelEvaluator"
   ]
  },
  {
   "cell_type": "code",
   "execution_count": 180,
   "id": "2ef20b9c-08b9-42c9-ae8b-93b7e7c4f295",
   "metadata": {},
   "outputs": [],
   "source": [
    "test_instance = ModelEvaluator(\n",
    "    float_model, \n",
    "    test_loader,\n",
    "    device\n",
    ")\n"
   ]
  },
  {
   "cell_type": "code",
   "execution_count": 181,
   "id": "52e00d21-ba5c-4cdb-986a-978ccc3d0d93",
   "metadata": {},
   "outputs": [
    {
     "name": "stdout",
     "output_type": "stream",
     "text": [
      "\n",
      " Accuracy on test data: 99.17%\n",
      "\n",
      " Classification Report:\n",
      "              precision    recall  f1-score   support\n",
      "\n",
      "           0     1.0000    1.0000    1.0000        52\n",
      "           1     1.0000    1.0000    1.0000        65\n",
      "           2     0.9692    1.0000    0.9844        63\n",
      "           3     1.0000    0.9667    0.9831        60\n",
      "           4     1.0000    1.0000    1.0000        55\n",
      "           5     1.0000    0.9811    0.9905        53\n",
      "           6     1.0000    0.9846    0.9922        65\n",
      "           7     1.0000    0.9831    0.9915        59\n",
      "           8     0.9683    1.0000    0.9839        61\n",
      "           9     0.9853    1.0000    0.9926        67\n",
      "\n",
      "    accuracy                         0.9917       600\n",
      "   macro avg     0.9923    0.9915    0.9918       600\n",
      "weighted avg     0.9919    0.9917    0.9917       600\n",
      "\n",
      "\n",
      " Confusion Matrix:\n",
      "[[52  0  0  0  0  0  0  0  0  0]\n",
      " [ 0 65  0  0  0  0  0  0  0  0]\n",
      " [ 0  0 63  0  0  0  0  0  0  0]\n",
      " [ 0  0  1 58  0  0  0  0  1  0]\n",
      " [ 0  0  0  0 55  0  0  0  0  0]\n",
      " [ 0  0  0  0  0 52  0  0  0  1]\n",
      " [ 0  0  0  0  0  0 64  0  1  0]\n",
      " [ 0  0  1  0  0  0  0 58  0  0]\n",
      " [ 0  0  0  0  0  0  0  0 61  0]\n",
      " [ 0  0  0  0  0  0  0  0  0 67]]\n"
     ]
    }
   ],
   "source": [
    "test_instance.evaluate()"
   ]
  },
  {
   "cell_type": "code",
   "execution_count": 182,
   "id": "7233c710-d50f-481e-a346-72a8eb705976",
   "metadata": {},
   "outputs": [],
   "source": [
    "float_model_save_path = os.path.join(project_root_dir, 'outputs', 'models', 'float_model_weights.pth')\n",
    "torch.save(float_model.state_dict(), float_model_save_path)"
   ]
  },
  {
   "cell_type": "markdown",
   "id": "f863b267-4316-4fe2-8a49-72d03ea4fbd3",
   "metadata": {
    "jp-MarkdownHeadingCollapsed": true
   },
   "source": [
    "## Task B — Retrain Under Memory Constraints\n",
    "\n",
    "- All parameters of any one layer must fit into memory simultaneously\n",
    "- Maximum memory available for layer parameters is 36 KB\n",
    "\n",
    "Since Pytorch stores all the layer parameters as floating point values, as 32-bit floats(4 bytes per parameter), this implies that the \n",
    "maximum number of parameters should not exceed\n",
    "\n",
    "$$\n",
    "\\text{Max total number of parameters} = \\frac{36\\,\\text{KB}}{4\\,\\text{bytes}} = \\frac{36 \\times 1024}{4} = 9,216 \\text{ parameters}\n",
    "$$\n",
    "\n",
    "## Model Parameter Breakdown for 2 Layers LSTM\n",
    "The following calculations are based on the parameter definitions from PyTorch's LSTM implementation, as described in the \\href{https://docs.pytorch.org/docs/stable/generated/torch.nn.LSTM.html\\#torch.nn.LSTM}{official documentation}. \n",
    "\n",
    "Let’s define the following variables:\n",
    "\n",
    "$$\n",
    "\\begin{aligned}\n",
    "\\text{Input dimension} &= i \\\\\n",
    "\\text{Hidden dimension} &= h \\\\\n",
    "\\text{Output dimension} &= o \\\\\n",
    "\\text{Number of LSTM layers} &= 2 \\\\\n",
    "\\text{Fully Connected (Linear) layer count} &= 1 \\\\\n",
    "\\end{aligned}\n",
    "$$\n",
    "\n",
    "These will be used to calculate the total number of parameters in the model.\n",
    "\n",
    "---\n",
    "\n",
    "## LSTM Layer Parameters\n",
    "\n",
    "Each LSTM layer has 4 internal gates (input, forget, cell, output).  \n",
    "So each layer has:\n",
    "\n",
    "$$\n",
    "\\begin{aligned}\n",
    "W\\_{ih} &: \\text{Weights from input to hidden} \\rightarrow \\text{shape: } (4 \\times h, i) \\\\\n",
    "W\\_{hh} &: \\text{Weights from hidden to hidden} \\rightarrow \\text{shape: } (4 \\times h, h) \\\\\n",
    "b\\_{ih}, b\\_{hh} &: \\text{Biases for each gate} \\rightarrow \\text{shape: } (4 \\times h)\n",
    "\\end{aligned}\n",
    "$$\n",
    "\n",
    "### Calculations:\n",
    "\n",
    "$$\n",
    "\\begin{aligned}\n",
    "&\\textbf{Layer 1 Parameters} \\\\\n",
    "&W\\_ih: 4 \\times h \\times i \\\\\n",
    "&W\\_hh: 4 \\times h \\times h \\\\\n",
    "&b\\_ih: 4 \\times h \\\\\n",
    "&b\\_hh: 4 \\times h \\\\\n",
    "&\\\\\n",
    "&\\textbf{Layer 2 Parameters} \\\\\n",
    "&W\\_ih: 4 \\times h \\times h \\\\\n",
    "&W\\_hh: 4 \\times h \\times h \\\\\n",
    "&b\\_ih: 4 \\times h \\\\\n",
    "&b\\_hh: 4 \\times h \\\\\n",
    "&\\\\\n",
    "&\\text{Total LSTM parameters} = (4 \\times h \\times i) + (4 \\times h \\times h) + (8 \\times h) = 4hi + 4h^2 + 8h\n",
    "\\end{aligned}\n",
    "$$\n",
    "\n",
    "---\n",
    "\n",
    "## Fully Connected (Linear) Layer\n",
    "\n",
    "- Input features = $$\\text{hidden\\_dim} = h$$  \n",
    "- Output features = $$\\text{output\\_dim} = o$$\n",
    "\n",
    "### Calculations:\n",
    "$$\n",
    "\\begin{aligned}\n",
    "&\\text{Weights}: \\quad h \\times o \\\\\n",
    "&\\text{Bias}: \\quad o \\\\\n",
    "&\\textbf{Total Linear parameters} = h \\cdot o + o = o(h + 1)\n",
    "\\end{aligned}\n",
    "$$\n",
    "\n",
    "---\n",
    "\n",
    "## Total Parameters\n",
    "\n",
    "The total number of parameters in the model is the sum of the LSTM and Linear layer parameters:\n",
    "\n",
    "$$\n",
    "\\text{Total Parameters} = \\text{Total LSTM Parameters} + \\text{Total Linear Parameters}\n",
    "$$\n",
    "\n",
    "From earlier calculations:\n",
    "\n",
    "- $\\text{Total LSTM Parameters} = 4hi + 4h^2 + 8h$\n",
    "- $\\text{Total Linear Parameters} = h \\cdot o + o = o(h + 1)$\n",
    "\n",
    "Therefore:\n",
    "\n",
    "$$\n",
    "\\text{Total Parameters} = (4hi + 4h^2 + 8h) + o(h + 1)\n",
    "$$\n",
    "\n",
    "Or more compactly:\n",
    "\n",
    "$$\n",
    "\\boxed{\\text{Total Parameters} = 4hi + 4h^2 + 8h + o(h + 1)}\n",
    "$$\n",
    "\n",
    "---\n"
   ]
  },
  {
   "cell_type": "markdown",
   "id": "e958d7b7-41d4-4753-99c0-42ae9303be61",
   "metadata": {},
   "source": [
    "## Designing a 2-Layer LSTM Under a 36 KB Memory Constraint\n",
    "\n",
    "Given an output dimension of $10$ (representing 10 classes or digits) and an input dimension of $13$ (corresponding to 13 MFCC coefficients per time step), the total number of parameters in the model reduces to the following quadratic expression:\n",
    "\n",
    "$$\n",
    "\\text{Total Parameters} = 12h^2 + 78h + 10\n",
    "$$\n",
    "\n",
    "Here, $ h $ (the hidden dimension) remains the only variable we need to solve for.\n",
    "\n",
    "Since the memory constraint allows for a maximum of \\textbf{9,216 parameters}, the hidden dimension must satisfy:\n",
    "\n",
    "$$\n",
    "12h^2 + 78h + 10 \\leq 9216\n",
    "$$\n",
    "\n",
    "The maximum valid integer value of $ h $ that satisfies the inequality is:\n",
    "$$\n",
    "h = 24\n",
    "$$\n",
    "\n",
    "---"
   ]
  },
  {
   "cell_type": "code",
   "execution_count": 183,
   "id": "92bbbd4b-4632-472a-885e-2e07f1894c7d",
   "metadata": {},
   "outputs": [],
   "source": [
    "import src.model as model_with_constraints\n",
    "\n",
    "hidden_dim = 24\n",
    "memory_constraint_model = model_with_constraints.LSTMClassifier(input_dim=input_dim,\n",
    "                                           hidden_dim=hidden_dim,\n",
    "                                           num_layers=num_layers,\n",
    "                                           output_dim=output_dim).to(device)"
   ]
  },
  {
   "cell_type": "code",
   "execution_count": 184,
   "id": "bf734e3a-c8ec-4df5-98e8-22a38e69674e",
   "metadata": {},
   "outputs": [],
   "source": [
    "from src.train import ModelTrainer\n",
    "trainer_instance_2 = ModelTrainer(\n",
    "    memory_constraint_model, \n",
    "    epochs,\n",
    "    train_loader,\n",
    "    device,\n",
    "    learning_rate\n",
    ")"
   ]
  },
  {
   "cell_type": "code",
   "execution_count": 185,
   "id": "16108f19-ba8a-42ee-85fd-d8b9dc257643",
   "metadata": {},
   "outputs": [
    {
     "name": "stdout",
     "output_type": "stream",
     "text": [
      "Epoch [1/20], Loss: 171.8823, Accuracy: 22.96%\n",
      "Epoch [2/20], Loss: 149.6941, Accuracy: 31.75%\n",
      "Epoch [3/20], Loss: 118.6571, Accuracy: 46.25%\n",
      "Epoch [4/20], Loss: 97.1606, Accuracy: 54.58%\n",
      "Epoch [5/20], Loss: 85.1007, Accuracy: 58.83%\n",
      "Epoch [6/20], Loss: 73.9288, Accuracy: 64.17%\n",
      "Epoch [7/20], Loss: 63.3497, Accuracy: 77.25%\n",
      "Epoch [8/20], Loss: 57.7939, Accuracy: 80.54%\n",
      "Epoch [9/20], Loss: 50.7915, Accuracy: 83.17%\n",
      "Epoch [10/20], Loss: 42.4622, Accuracy: 85.83%\n",
      "Epoch [11/20], Loss: 37.6456, Accuracy: 89.75%\n",
      "Epoch [12/20], Loss: 31.4392, Accuracy: 89.38%\n",
      "Epoch [13/20], Loss: 29.2465, Accuracy: 91.12%\n",
      "Epoch [14/20], Loss: 25.1869, Accuracy: 93.58%\n",
      "Epoch [15/20], Loss: 23.3022, Accuracy: 95.17%\n",
      "Epoch [16/20], Loss: 17.3526, Accuracy: 95.25%\n",
      "Epoch [17/20], Loss: 17.0136, Accuracy: 95.38%\n",
      "Epoch [18/20], Loss: 16.4417, Accuracy: 93.88%\n",
      "Epoch [19/20], Loss: 16.1394, Accuracy: 96.21%\n",
      "Epoch [20/20], Loss: 13.2230, Accuracy: 96.96%\n"
     ]
    }
   ],
   "source": [
    "trainer_instance_2.train()"
   ]
  },
  {
   "cell_type": "code",
   "execution_count": 186,
   "id": "6ad2f6cf-3eb9-48c2-9152-7843f556a770",
   "metadata": {},
   "outputs": [
    {
     "name": "stdout",
     "output_type": "stream",
     "text": [
      "\n",
      "Layer-wise parameter counts:\n",
      "lstm.weight_ih_l0              -> 1,248 params\n",
      "lstm.weight_hh_l0              -> 2,304 params\n",
      "lstm.bias_ih_l0                -> 96 params\n",
      "lstm.bias_hh_l0                -> 96 params\n",
      "lstm.weight_ih_l1              -> 2,304 params\n",
      "lstm.weight_hh_l1              -> 2,304 params\n",
      "lstm.bias_ih_l1                -> 96 params\n",
      "lstm.bias_hh_l1                -> 96 params\n",
      "fc.weight                      -> 240 params\n",
      "fc.bias                        -> 10 params\n",
      "\n",
      "\n",
      " Total Parameters: 8,794\n",
      "Estimated Memory: 34.35 KB (0.03 MB)\n"
     ]
    }
   ],
   "source": [
    "_, _ = utils.get_model_params_size(memory_constraint_model)"
   ]
  },
  {
   "cell_type": "code",
   "execution_count": 187,
   "id": "7bace95f-b096-4648-baf2-2bdc0375f9bc",
   "metadata": {},
   "outputs": [],
   "source": [
    "from src.evaluate import ModelEvaluator"
   ]
  },
  {
   "cell_type": "code",
   "execution_count": 188,
   "id": "91968fee-a54e-40ba-a2ed-1ba2d1039615",
   "metadata": {},
   "outputs": [],
   "source": [
    "test_instance_2 = ModelEvaluator(\n",
    "    memory_constraint_model, \n",
    "    test_loader,\n",
    "    device\n",
    ")"
   ]
  },
  {
   "cell_type": "code",
   "execution_count": 189,
   "id": "4352fe35-66bc-4cf1-8bd3-d129e20617e8",
   "metadata": {},
   "outputs": [
    {
     "name": "stdout",
     "output_type": "stream",
     "text": [
      "\n",
      " Accuracy on test data: 92.67%\n",
      "\n",
      " Classification Report:\n",
      "              precision    recall  f1-score   support\n",
      "\n",
      "           0     1.0000    1.0000    1.0000        52\n",
      "           1     0.9841    0.9538    0.9688        65\n",
      "           2     0.9828    0.9048    0.9421        63\n",
      "           3     0.8308    0.9000    0.8640        60\n",
      "           4     1.0000    0.9273    0.9623        55\n",
      "           5     0.8387    0.9811    0.9043        53\n",
      "           6     0.9310    0.8308    0.8780        65\n",
      "           7     0.9825    0.9492    0.9655        59\n",
      "           8     0.8594    0.9016    0.8800        61\n",
      "           9     0.9000    0.9403    0.9197        67\n",
      "\n",
      "    accuracy                         0.9267       600\n",
      "   macro avg     0.9309    0.9289    0.9285       600\n",
      "weighted avg     0.9306    0.9267    0.9273       600\n",
      "\n",
      "\n",
      " Confusion Matrix:\n",
      "[[52  0  0  0  0  0  0  0  0  0]\n",
      " [ 0 62  0  0  0  1  0  0  0  2]\n",
      " [ 0  0 57  4  0  0  0  0  0  2]\n",
      " [ 0  0  1 54  0  0  2  0  1  2]\n",
      " [ 0  0  0  0 51  4  0  0  0  0]\n",
      " [ 0  0  0  0  0 52  0  0  0  1]\n",
      " [ 0  0  0  3  0  0 54  0  8  0]\n",
      " [ 0  0  0  0  0  2  1 56  0  0]\n",
      " [ 0  0  0  4  0  0  1  1 55  0]\n",
      " [ 0  1  0  0  0  3  0  0  0 63]]\n"
     ]
    }
   ],
   "source": [
    "test_instance_2.evaluate()"
   ]
  },
  {
   "cell_type": "code",
   "execution_count": 190,
   "id": "418b8710-1ae6-469e-8282-f0acbd8326d4",
   "metadata": {},
   "outputs": [],
   "source": [
    "memory_constraint_model_save_path = os.path.join(project_root_dir, 'outputs', 'models', 'memory_constraint_model_weights.pth')\n",
    "torch.save(memory_constraint_model.state_dict(), memory_constraint_model_save_path)"
   ]
  },
  {
   "cell_type": "code",
   "execution_count": 192,
   "id": "0fba6210-ab20-4ca3-82d0-f084dcbfe595",
   "metadata": {},
   "outputs": [
    {
     "name": "stdout",
     "output_type": "stream",
     "text": [
      "Memory Constraint model size: 37.13 KB\n"
     ]
    }
   ],
   "source": [
    "import tempfile\n",
    "\n",
    "with tempfile.NamedTemporaryFile(delete=True) as tmp:\n",
    "    torch.save(memory_constraint_model.state_dict(), tmp.name)\n",
    "    memory_model_size_kb = os.path.getsize(tmp.name) / 1024\n",
    "    print(f\"Memory Constraint model size: {memory_model_size_kb:.2f} KB\")"
   ]
  },
  {
   "cell_type": "markdown",
   "id": "bb4fd5d7-b633-4659-8782-d071a75553af",
   "metadata": {},
   "source": [
    "## Floating Point Restriction (Task B Continued)\n",
    "\n",
    "In addition to the 36 KB memory constraint, the hardware for Task B is limited in computational capability and **does not support floating point operations**. It means the network must operate using **integer or fixed-point arithmetic** only. **Weights, activations, and computations** should be **quantized** to lower-precision formats such as 8-bit integers (INT8)\n"
   ]
  },
  {
   "cell_type": "markdown",
   "id": "d1bde340-b0ed-4641-9fd6-c383c328d121",
   "metadata": {
    "jp-MarkdownHeadingCollapsed": true
   },
   "source": [
    "### Dynamic Quantization"
   ]
  },
  {
   "cell_type": "code",
   "execution_count": 78,
   "id": "65bbcbb6-07e7-432e-bf04-d56cf0d20471",
   "metadata": {},
   "outputs": [],
   "source": [
    "memory_constraint_model_cpu = memory_constraint_model.to('cpu') \n",
    "# Apply dynamic quantization to the entire model or just LSTM/Linear layers\n",
    "dynamic_quantized_model = torch.quantization.quantize_dynamic(\n",
    "    memory_constraint_model_cpu,  # the model instance\n",
    "    {nn.LSTM, nn.Linear},  # layers to quantize\n",
    "    dtype=torch.qint8  # quantize to 8-bit integers\n",
    ")"
   ]
  },
  {
   "cell_type": "code",
   "execution_count": 79,
   "id": "40d46328-0968-47c0-a43e-fa9c9cd95d45",
   "metadata": {},
   "outputs": [],
   "source": [
    "from src.evaluate import ModelEvaluator"
   ]
  },
  {
   "cell_type": "code",
   "execution_count": 35,
   "id": "4ed358da-c959-47ba-b90e-1dac930cf08a",
   "metadata": {},
   "outputs": [],
   "source": [
    "device = torch.device(\"cpu\")\n",
    "test_instance = ModelEvaluator(\n",
    "    memory_constraint_model_cpu, \n",
    "    test_loader,\n",
    "    device\n",
    ")"
   ]
  },
  {
   "cell_type": "code",
   "execution_count": 36,
   "id": "cde78786-f9d9-4f73-a478-77e46158c359",
   "metadata": {},
   "outputs": [
    {
     "name": "stdout",
     "output_type": "stream",
     "text": [
      "\n",
      " Accuracy on test data: 93.00%\n",
      "\n",
      " Classification Report:\n",
      "              precision    recall  f1-score   support\n",
      "\n",
      "           0     1.0000    1.0000    1.0000        52\n",
      "           1     0.9839    0.9385    0.9606        65\n",
      "           2     1.0000    0.9206    0.9587        63\n",
      "           3     0.8438    0.9000    0.8710        60\n",
      "           4     1.0000    0.9273    0.9623        55\n",
      "           5     0.8387    0.9811    0.9043        53\n",
      "           6     0.9333    0.8615    0.8960        65\n",
      "           7     0.9655    0.9492    0.9573        59\n",
      "           8     0.8871    0.9016    0.8943        61\n",
      "           9     0.8873    0.9403    0.9130        67\n",
      "\n",
      "    accuracy                         0.9300       600\n",
      "   macro avg     0.9340    0.9320    0.9318       600\n",
      "weighted avg     0.9337    0.9300    0.9307       600\n",
      "\n",
      "\n",
      " Confusion Matrix:\n",
      "[[52  0  0  0  0  0  0  0  0  0]\n",
      " [ 0 61  0  0  0  1  0  0  0  3]\n",
      " [ 0  0 58  3  0  0  0  0  0  2]\n",
      " [ 0  0  0 54  0  0  2  1  1  2]\n",
      " [ 0  0  0  0 51  4  0  0  0  0]\n",
      " [ 0  0  0  0  0 52  0  0  0  1]\n",
      " [ 0  0  0  3  0  0 56  0  6  0]\n",
      " [ 0  0  0  0  0  2  1 56  0  0]\n",
      " [ 0  0  0  4  0  0  1  1 55  0]\n",
      " [ 0  1  0  0  0  3  0  0  0 63]]\n"
     ]
    }
   ],
   "source": [
    "test_instance.evaluate()"
   ]
  },
  {
   "cell_type": "markdown",
   "id": "458c9697-dd05-4536-ab79-44a9013ad2af",
   "metadata": {},
   "source": [
    "#### Compare the Inference times for Floating point and Quantised model"
   ]
  },
  {
   "cell_type": "markdown",
   "id": "a490e43a-6b02-40e8-8195-9ac033d0e327",
   "metadata": {},
   "source": [
    "#### Compare the model sizes of Floating point and Quantised model"
   ]
  },
  {
   "cell_type": "markdown",
   "id": "5c4f7307-719c-42f2-94b8-ed65a510a0f2",
   "metadata": {},
   "source": [
    "### Static Quantization"
   ]
  },
  {
   "cell_type": "code",
   "execution_count": 193,
   "id": "e4cfe0dd-e157-48aa-b670-6864307591e0",
   "metadata": {},
   "outputs": [],
   "source": [
    "import src.model as model\n",
    "\n",
    "hidden_dim = 24\n",
    "quant_model = model.LSTMClassifier(input_dim=input_dim,\n",
    "                       hidden_dim=hidden_dim,\n",
    "                       num_layers=num_layers,\n",
    "                       output_dim=output_dim).to(device)"
   ]
  },
  {
   "cell_type": "code",
   "execution_count": 194,
   "id": "9df73ae4-aa64-4a8d-9abe-bf1b8146d8d3",
   "metadata": {},
   "outputs": [
    {
     "data": {
      "text/plain": [
       "<All keys matched successfully>"
      ]
     },
     "execution_count": 194,
     "metadata": {},
     "output_type": "execute_result"
    }
   ],
   "source": [
    "memory_constraint_model_load_path = os.path.join(project_root_dir, 'outputs', 'models', 'memory_constraint_model_weights.pth')\n",
    "quant_model.load_state_dict(torch.load(memory_constraint_model_load_path))"
   ]
  },
  {
   "cell_type": "code",
   "execution_count": 195,
   "id": "c2dbbef6-8eac-4ae4-9c47-42c5088e6946",
   "metadata": {},
   "outputs": [
    {
     "data": {
      "text/plain": [
       "LSTMClassifier(\n",
       "  (lstm): LSTM(13, 24, num_layers=2, batch_first=True, dropout=0.3)\n",
       "  (dropout): Dropout(p=0.3, inplace=False)\n",
       "  (fc): Linear(in_features=24, out_features=10, bias=True)\n",
       ")"
      ]
     },
     "execution_count": 195,
     "metadata": {},
     "output_type": "execute_result"
    }
   ],
   "source": [
    "quant_model.eval()"
   ]
  },
  {
   "cell_type": "code",
   "execution_count": 196,
   "id": "468d1b42-cdcf-43db-b4e3-8e2c3dbc3120",
   "metadata": {},
   "outputs": [],
   "source": [
    "import src.quantize as quantize\n",
    "static_quant_model = quantize.StaticQuantizableModel(quant_model)"
   ]
  },
  {
   "cell_type": "code",
   "execution_count": 197,
   "id": "8cd8b6e6-4df2-45b3-b4ee-f9e77afe362c",
   "metadata": {},
   "outputs": [
    {
     "name": "stdout",
     "output_type": "stream",
     "text": [
      "StaticQuantizableModel(\n",
      "  (quant): QuantStub()\n",
      "  (dequant): DeQuantStub()\n",
      "  (model): LSTMClassifier(\n",
      "    (lstm): LSTM(13, 24, num_layers=2, batch_first=True, dropout=0.3)\n",
      "    (dropout): Dropout(p=0.3, inplace=False)\n",
      "    (fc): Linear(in_features=24, out_features=10, bias=True)\n",
      "  )\n",
      ")\n"
     ]
    }
   ],
   "source": [
    "print(static_quant_model)"
   ]
  },
  {
   "cell_type": "code",
   "execution_count": 198,
   "id": "47bddac4-37d9-4954-bd97-673550566bf7",
   "metadata": {},
   "outputs": [
    {
     "name": "stderr",
     "output_type": "stream",
     "text": [
      "/home/pavan/Music/spectrum/spectgramer/lib/python3.10/site-packages/torch/ao/nn/quantizable/modules/rnn.py:462: UserWarning: dropout option for quantizable LSTM is ignored. If you are training, please, use nn.LSTM version followed by `prepare` step.\n",
      "  warnings.warn(\n"
     ]
    }
   ],
   "source": [
    "static_quant_model.qconfig = torch.quantization.get_default_qconfig('qnnpack')  # For edge devices\n",
    "torch.backends.quantized.engine = 'qnnpack'\n",
    "\n",
    "static_quant_model_prepared = torch.quantization.prepare(static_quant_model)"
   ]
  },
  {
   "cell_type": "code",
   "execution_count": 199,
   "id": "5e533a1d-2ade-4e1a-9c4a-8549532aad15",
   "metadata": {},
   "outputs": [],
   "source": [
    "calibration_indices = list(range(100))\n",
    "calibration_dataset = torch.utils.data.Subset(test_dataset, calibration_indices)\n",
    "\n",
    "calibration_dataloader = torch.utils.data.DataLoader(calibration_dataset, batch_size=32)"
   ]
  },
  {
   "cell_type": "code",
   "execution_count": 200,
   "id": "7074be83-59fd-4dcb-8d1e-6d0b928d934f",
   "metadata": {},
   "outputs": [],
   "source": [
    "static_quant_model_prepared = static_quant_model_prepared.to('cpu')\n",
    "device = torch.device(\"cpu\")\n",
    "\n",
    "quantize.calibrate(static_quant_model_prepared, calibration_dataloader, device)"
   ]
  },
  {
   "cell_type": "code",
   "execution_count": 201,
   "id": "344dadd0-283b-4cbc-b6d5-9795a7e11a7b",
   "metadata": {},
   "outputs": [],
   "source": [
    "static_quantized_model = torch.quantization.convert(static_quant_model_prepared)"
   ]
  },
  {
   "cell_type": "code",
   "execution_count": 202,
   "id": "ee63cb0d-921f-4d81-abc5-93730e69dc76",
   "metadata": {},
   "outputs": [
    {
     "name": "stdout",
     "output_type": "stream",
     "text": [
      "cpu\n"
     ]
    }
   ],
   "source": [
    "print(device)"
   ]
  },
  {
   "cell_type": "code",
   "execution_count": 203,
   "id": "9e360937-58a0-4dd4-84d4-0f2a9cc960f5",
   "metadata": {},
   "outputs": [
    {
     "name": "stdout",
     "output_type": "stream",
     "text": [
      "cpu\n"
     ]
    }
   ],
   "source": [
    "from src.evaluate import ModelEvaluator\n",
    "print(device)\n",
    "quant_test_instance = ModelEvaluator(\n",
    "    static_quantized_model, \n",
    "    test_loader,\n",
    "    device\n",
    ")\n",
    "\n"
   ]
  },
  {
   "cell_type": "code",
   "execution_count": 205,
   "id": "116e9487-62c1-429b-9716-e3a5def9f8fb",
   "metadata": {},
   "outputs": [
    {
     "name": "stderr",
     "output_type": "stream",
     "text": [
      "/home/pavan/Music/spectrum/spectgramer/lib/python3.10/site-packages/torch/ao/nn/quantizable/modules/rnn.py:543: UserWarning: All inputs of this cat operator must share the same quantization parameters. Otherwise large numerical inaccuracies may occur. (Triggered internally at /pytorch/aten/src/ATen/native/quantized/cpu/TensorShape.cpp:167.)\n",
      "  cx_tensor = torch.stack(cx_list)\n"
     ]
    },
    {
     "name": "stdout",
     "output_type": "stream",
     "text": [
      "\n",
      " Accuracy on test data: 91.83%\n",
      "\n",
      " Classification Report:\n",
      "              precision    recall  f1-score   support\n",
      "\n",
      "           0     0.9808    0.9808    0.9808        52\n",
      "           1     0.9677    0.9231    0.9449        65\n",
      "           2     1.0000    0.8730    0.9322        63\n",
      "           3     0.7647    0.8667    0.8125        60\n",
      "           4     1.0000    0.9636    0.9815        55\n",
      "           5     0.8621    0.9434    0.9009        53\n",
      "           6     0.9016    0.8462    0.8730        65\n",
      "           7     0.9661    0.9661    0.9661        59\n",
      "           8     0.8852    0.8852    0.8852        61\n",
      "           9     0.9014    0.9552    0.9275        67\n",
      "\n",
      "    accuracy                         0.9183       600\n",
      "   macro avg     0.9230    0.9203    0.9205       600\n",
      "weighted avg     0.9225    0.9183    0.9192       600\n",
      "\n",
      "\n",
      " Confusion Matrix:\n",
      "[[51  0  0  0  0  0  0  1  0  0]\n",
      " [ 0 60  0  0  0  2  0  0  0  3]\n",
      " [ 1  0 55  6  0  0  0  0  0  1]\n",
      " [ 0  0  0 52  0  0  4  0  2  2]\n",
      " [ 0  0  0  0 53  2  0  0  0  0]\n",
      " [ 0  2  0  0  0 50  0  0  0  1]\n",
      " [ 0  0  0  5  0  0 55  0  5  0]\n",
      " [ 0  0  0  0  0  1  1 57  0  0]\n",
      " [ 0  0  0  5  0  0  1  1 54  0]\n",
      " [ 0  0  0  0  0  3  0  0  0 64]]\n"
     ]
    }
   ],
   "source": [
    "quant_test_instance.evaluate()"
   ]
  },
  {
   "cell_type": "code",
   "execution_count": 206,
   "id": "c5575187-1d97-4867-8cad-06e53ece60aa",
   "metadata": {},
   "outputs": [
    {
     "name": "stdout",
     "output_type": "stream",
     "text": [
      "\n",
      "Layer-wise parameter counts:\n",
      "\n",
      "\n",
      " Total Parameters: 0\n",
      "Estimated Memory: 0.00 KB (0.00 MB)\n"
     ]
    }
   ],
   "source": [
    "_, _ = utils.get_model_params_size(static_quantized_model)"
   ]
  },
  {
   "cell_type": "code",
   "execution_count": 208,
   "id": "3fbc02fb-3738-40ee-a933-1baffb33aa6d",
   "metadata": {},
   "outputs": [
    {
     "name": "stdout",
     "output_type": "stream",
     "text": [
      "Quantized model size: 26.66 KB\n"
     ]
    }
   ],
   "source": [
    "import tempfile\n",
    "\n",
    "with tempfile.NamedTemporaryFile(delete=True) as tmp:\n",
    "    torch.save(static_quantized_model.state_dict(), tmp.name)\n",
    "    quantized_model_size_kb = os.path.getsize(tmp.name) / 1024\n",
    "    print(f\"Quantized model size: {quantized_model_size_kb:.2f} KB\")"
   ]
  },
  {
   "cell_type": "code",
   "execution_count": null,
   "id": "da5f7ca8-6065-45d2-94fb-15b428c21340",
   "metadata": {},
   "outputs": [],
   "source": []
  },
  {
   "cell_type": "code",
   "execution_count": null,
   "id": "777bafd7-42a3-498c-8a58-076a1a6f5e18",
   "metadata": {},
   "outputs": [],
   "source": []
  },
  {
   "cell_type": "code",
   "execution_count": null,
   "id": "bf044e0d-88a6-4b63-bb63-d424ae970f79",
   "metadata": {},
   "outputs": [],
   "source": []
  },
  {
   "cell_type": "code",
   "execution_count": null,
   "id": "215a22e9-cbcb-4d87-bd7b-6e61ab801874",
   "metadata": {},
   "outputs": [],
   "source": []
  },
  {
   "cell_type": "code",
   "execution_count": null,
   "id": "00780a3a-9da7-40a0-9345-9c12d99691a1",
   "metadata": {},
   "outputs": [],
   "source": []
  },
  {
   "cell_type": "code",
   "execution_count": null,
   "id": "06da5ce2-2fc8-4e65-b488-d3460ac954aa",
   "metadata": {},
   "outputs": [],
   "source": []
  },
  {
   "cell_type": "code",
   "execution_count": null,
   "id": "5b30ad39-56ec-4db5-92d7-3abf02ddec7c",
   "metadata": {},
   "outputs": [],
   "source": []
  },
  {
   "cell_type": "code",
   "execution_count": null,
   "id": "09ca2fb5-ffd4-4514-9649-71d08c81768f",
   "metadata": {},
   "outputs": [],
   "source": []
  },
  {
   "cell_type": "code",
   "execution_count": null,
   "id": "e954b0de-801c-48bc-b38f-6852574e6786",
   "metadata": {},
   "outputs": [],
   "source": []
  },
  {
   "cell_type": "markdown",
   "id": "58bd6058-17dd-43e8-85d7-35c31190adab",
   "metadata": {
    "jp-MarkdownHeadingCollapsed": true
   },
   "source": [
    "## Total Parameters for 1-Layer LSTM\n",
    "\n",
    "For a single LSTM layer, with the same input and output dimensions (13 MFCC coefficients and 10 output classes), the total number of parameters simplifies to:\n",
    "\n",
    "$$\n",
    "\\text{Total Parameters} = 4h^2 + 70h + 10\n",
    "$$"
   ]
  },
  {
   "cell_type": "code",
   "execution_count": null,
   "id": "2a2d68ab-da15-49de-be24-b6c5b3d58a84",
   "metadata": {},
   "outputs": [],
   "source": []
  }
 ],
 "metadata": {
  "kernelspec": {
   "display_name": "Python (spectgramer)",
   "language": "python",
   "name": "innatera-kernel"
  },
  "language_info": {
   "codemirror_mode": {
    "name": "ipython",
    "version": 3
   },
   "file_extension": ".py",
   "mimetype": "text/x-python",
   "name": "python",
   "nbconvert_exporter": "python",
   "pygments_lexer": "ipython3",
   "version": "3.10.12"
  }
 },
 "nbformat": 4,
 "nbformat_minor": 5
}
