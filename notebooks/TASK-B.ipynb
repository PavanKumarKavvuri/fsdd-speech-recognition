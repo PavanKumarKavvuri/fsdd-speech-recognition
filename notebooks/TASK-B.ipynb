{
 "cells": [
  {
   "cell_type": "markdown",
   "id": "074e24f9-a286-43cd-965b-1c41044ee99b",
   "metadata": {},
   "source": [
    "# LSTM for Spoken Digit Classification: Train with 36 KB memory constraint\n",
    "\n",
    "This notebook builds and trains a recurrent neural network (LSTM) to classify spoken digits (0–9) from audio recordings.\n",
    "\n",
    "- Dataset: [Free Spoken Digit Dataset (FSDD)](https://github.com/Jakobovski/free-spoken-digit-dataset)\n",
    "- Framework: PyTorch\n",
    "- Architecture: RNN with LSTM layers"
   ]
  },
  {
   "cell_type": "code",
   "execution_count": 2,
   "id": "ac121864-dea8-4206-b0d1-1acbdc0002dc",
   "metadata": {},
   "outputs": [],
   "source": [
    "import sys\n",
    "import os\n",
    "\n",
    "# Add the project root (parent of current folder) to Python path\n",
    "project_root_dir = os.path.abspath(os.path.join(os.getcwd(), '..'))\n",
    "sys.path.append(project_root_dir)\n"
   ]
  },
  {
   "cell_type": "markdown",
   "id": "a907bf1a-f498-4c4b-941a-1ec9859a6dbc",
   "metadata": {},
   "source": [
    "## Load Model Configuration from YAML\n",
    "\n",
    "To make the training pipeline configurable and modular, we store model parameters like number of LSTM layers, hidden size, and learning rate etc in a YAML file. This structure enables quick adaptation to related tasks B, and C.\n",
    "\n",
    "This section loads the model configuration using a custom utility function."
   ]
  },
  {
   "cell_type": "code",
   "execution_count": 3,
   "id": "fc007882-2f6c-4e2e-9a19-18eb3a3dd549",
   "metadata": {},
   "outputs": [],
   "source": [
    "import src.utils as utils"
   ]
  },
  {
   "cell_type": "code",
   "execution_count": 4,
   "id": "f5efd2eb-0415-43c9-ba38-492a135899d5",
   "metadata": {},
   "outputs": [
    {
     "name": "stdout",
     "output_type": "stream",
     "text": [
      "[INFO] Random seed set to: 42\n"
     ]
    }
   ],
   "source": [
    "utils.set_seed(42)"
   ]
  },
  {
   "cell_type": "code",
   "execution_count": 6,
   "id": "51de20a8-e68c-40e3-b17b-f2cc330329ec",
   "metadata": {},
   "outputs": [],
   "source": [
    "import yaml\n",
    "import json\n",
    "\n",
    "model_config_path = os.path.join(project_root_dir, 'config', 'model_config.yaml')\n",
    "model_config = utils.read_yaml_file(model_config_path)\n",
    "# print(json.dumps(model_config, indent=2))"
   ]
  },
  {
   "cell_type": "markdown",
   "id": "70db000b-c161-4faf-b555-80a64696bed4",
   "metadata": {},
   "source": [
    "## Load and Split Dataset for Training and Evaluation\n",
    "\n",
    "In this section, we load the recordings data from disk, generate data-label pairs, and split them into training and test sets according to the `test_size` defined in the YAML file.\n",
    "\n",
    "Using `test_size` and `seed` from the YAML config ensures that experiments are reproducible and easily tunable for other tasks by simply updating the configuration.\n"
   ]
  },
  {
   "cell_type": "code",
   "execution_count": 7,
   "id": "fd4c30c2-fdc9-4d1f-8491-8948e8a844c8",
   "metadata": {},
   "outputs": [],
   "source": [
    "data_path = model_config['dataset']['path']\n",
    "test_data_size = model_config['data_splitting']['test_size']\n",
    "seed = model_config['experiment']['seed']"
   ]
  },
  {
   "cell_type": "code",
   "execution_count": 8,
   "id": "3f2e678e-b078-4b6d-8788-4807fc2912a2",
   "metadata": {},
   "outputs": [],
   "source": [
    "data_label_pairs, _ = utils.prepare_data_label_pairs(data_path)"
   ]
  },
  {
   "cell_type": "code",
   "execution_count": 9,
   "id": "d5b6e981-6360-4c48-bf87-4d722523a02b",
   "metadata": {},
   "outputs": [],
   "source": [
    "from sklearn.model_selection import train_test_split\n",
    "train_data, test_data = train_test_split(data_label_pairs, test_size=test_data_size, random_state=seed)"
   ]
  },
  {
   "cell_type": "markdown",
   "id": "a9e8a06f-d118-462d-987e-c5ee7363933c",
   "metadata": {},
   "source": [
    "## Transform Raw Data into PyTorch Dataset Objects\n",
    "\n",
    "The `AudioFeaturesDataset` class converts raw data-label pairs into PyTorch-compatible datasets that provide easy access to samples and labels.\n",
    "\n",
    "AudioFeaturesDataset is a custom dataset class that:\n",
    "\n",
    "- Loads audio recordings of spoken digits along with their labels.\n",
    "- Optionally cleans the audio by filtering out noise.\n",
    "- Extracts MFCC features (a common speech feature).\n",
    "- Pads or trims these features to a fixed length so all inputs have the same shape.\n",
    "- Works with PyTorch to provide samples one-by-one when training or testing a model.\n",
    "- It helps prepare your audio data in the right format for training neural networks efficiently.\n"
   ]
  },
  {
   "cell_type": "code",
   "execution_count": 10,
   "id": "d7a181bb-fce0-4dc5-aba6-b0cc522854d3",
   "metadata": {},
   "outputs": [],
   "source": [
    "from src.data_preprocessor import AudioFeaturesDataset\n",
    "\n",
    "train_dataset = AudioFeaturesDataset(train_data)\n",
    "test_dataset = AudioFeaturesDataset(test_data)"
   ]
  },
  {
   "cell_type": "code",
   "execution_count": 11,
   "id": "4121f284-fd0e-49aa-a47b-ebfde0f1e4a6",
   "metadata": {},
   "outputs": [
    {
     "name": "stdout",
     "output_type": "stream",
     "text": [
      "Train size: 2400\n",
      "Test size: 600\n"
     ]
    }
   ],
   "source": [
    "print(f\"Train size: {len(train_dataset)}\")\n",
    "print(f\"Test size: {len(test_dataset)}\")"
   ]
  },
  {
   "cell_type": "markdown",
   "id": "0682500e-8660-481b-a3a8-823d4e824486",
   "metadata": {},
   "source": [
    "## Create DataLoaders for Batch Processing\n",
    "\n",
    "Using PyTorch DataLoaders, we enable efficient loading, batching, and shuffling of data during training and evaluation."
   ]
  },
  {
   "cell_type": "code",
   "execution_count": 15,
   "id": "a2957cdf-bee7-4877-87c8-c4eeb186b190",
   "metadata": {},
   "outputs": [],
   "source": [
    "import torch\n",
    "\n",
    "train_loader = torch.utils.data.DataLoader(train_dataset, batch_size=32, shuffle=True)\n",
    "test_loader = torch.utils.data.DataLoader(test_dataset, batch_size=32, shuffle=False)"
   ]
  },
  {
   "cell_type": "code",
   "execution_count": 16,
   "id": "a30ecd48-25db-4e42-92e7-173fd8894e28",
   "metadata": {},
   "outputs": [],
   "source": [
    "input_dim = model_config['model']['input_dim']\n",
    "hidden_dim = model_config['model']['hidden_dim']\n",
    "num_layers = model_config['model']['num_layers']\n",
    "output_dim = model_config['model']['output_dim']"
   ]
  },
  {
   "cell_type": "code",
   "execution_count": 17,
   "id": "b6a3b93e-82ab-4347-99ef-5be89844a4c9",
   "metadata": {},
   "outputs": [],
   "source": [
    "device = torch.device(\"cuda\" if torch.cuda.is_available() else \"cpu\")"
   ]
  },
  {
   "cell_type": "markdown",
   "id": "f863b267-4316-4fe2-8a49-72d03ea4fbd3",
   "metadata": {},
   "source": [
    "## Task B — Retrain Under Memory Constraints\n",
    "\n",
    "- All parameters of any one layer must fit into memory simultaneously\n",
    "- Maximum memory available for layer parameters is 36 KB\n",
    "\n",
    "Since Pytorch stores all the layer parameters as floating point values, as 32-bit floats(4 bytes per parameter), this implies that the \n",
    "maximum number of parameters should not exceed\n",
    "\n",
    "$$\n",
    "\\text{Max total number of parameters} = \\frac{36\\,\\text{KB}}{4\\,\\text{bytes}} = \\frac{36 \\times 1024}{4} = 9,216 \\text{ parameters}\n",
    "$$\n",
    "\n",
    "## Model Parameter Breakdown for 2 Layers LSTM\n",
    "The following calculations are based on the parameter definitions from PyTorch's LSTM implementation, as described in the \\href{https://docs.pytorch.org/docs/stable/generated/torch.nn.LSTM.html\\#torch.nn.LSTM}{official documentation}. \n",
    "\n",
    "Let’s define the following variables:\n",
    "\n",
    "$$\n",
    "\\begin{aligned}\n",
    "\\text{Input dimension} &= i \\\\\n",
    "\\text{Hidden dimension} &= h \\\\\n",
    "\\text{Output dimension} &= o \\\\\n",
    "\\text{Number of LSTM layers} &= 2 \\\\\n",
    "\\text{Fully Connected (Linear) layer count} &= 1 \\\\\n",
    "\\end{aligned}\n",
    "$$\n",
    "\n",
    "These will be used to calculate the total number of parameters in the model.\n",
    "\n",
    "---\n",
    "\n",
    "## LSTM Layer Parameters\n",
    "\n",
    "Each LSTM layer has 4 internal gates (input, forget, cell, output).  \n",
    "So each layer has:\n",
    "\n",
    "$$\n",
    "\\begin{aligned}\n",
    "W\\_{ih} &: \\text{Weights from input to hidden} \\rightarrow \\text{shape: } (4 \\times h, i) \\\\\n",
    "W\\_{hh} &: \\text{Weights from hidden to hidden} \\rightarrow \\text{shape: } (4 \\times h, h) \\\\\n",
    "b\\_{ih}, b\\_{hh} &: \\text{Biases for each gate} \\rightarrow \\text{shape: } (4 \\times h)\n",
    "\\end{aligned}\n",
    "$$\n",
    "\n",
    "### Calculations:\n",
    "\n",
    "$$\n",
    "\\begin{aligned}\n",
    "&\\textbf{Layer 1 Parameters} \\\\\n",
    "&W\\_ih: 4 \\times h \\times i \\\\\n",
    "&W\\_hh: 4 \\times h \\times h \\\\\n",
    "&b\\_ih: 4 \\times h \\\\\n",
    "&b\\_hh: 4 \\times h \\\\\n",
    "&\\\\\n",
    "&\\textbf{Layer 2 Parameters} \\\\\n",
    "&W\\_ih: 4 \\times h \\times h \\\\\n",
    "&W\\_hh: 4 \\times h \\times h \\\\\n",
    "&b\\_ih: 4 \\times h \\\\\n",
    "&b\\_hh: 4 \\times h \\\\\n",
    "&\\\\\n",
    "&\\text{Total LSTM parameters} = (4 \\times h \\times i) + (4 \\times h \\times h) + (8 \\times h) = 4hi + 4h^2 + 8h\n",
    "\\end{aligned}\n",
    "$$\n",
    "\n",
    "---\n",
    "\n",
    "## Fully Connected (Linear) Layer\n",
    "\n",
    "- Input features = $$\\text{hidden\\_dim} = h$$  \n",
    "- Output features = $$\\text{output\\_dim} = o$$\n",
    "\n",
    "### Calculations:\n",
    "$$\n",
    "\\begin{aligned}\n",
    "&\\text{Weights}: \\quad h \\times o \\\\\n",
    "&\\text{Bias}: \\quad o \\\\\n",
    "&\\textbf{Total Linear parameters} = h \\cdot o + o = o(h + 1)\n",
    "\\end{aligned}\n",
    "$$\n",
    "\n",
    "---\n",
    "\n",
    "## Total Parameters\n",
    "\n",
    "The total number of parameters in the model is the sum of the LSTM and Linear layer parameters:\n",
    "\n",
    "$$\n",
    "\\text{Total Parameters} = \\text{Total LSTM Parameters} + \\text{Total Linear Parameters}\n",
    "$$\n",
    "\n",
    "From earlier calculations:\n",
    "\n",
    "- $\\text{Total LSTM Parameters} = 4hi + 4h^2 + 8h$\n",
    "- $\\text{Total Linear Parameters} = h \\cdot o + o = o(h + 1)$\n",
    "\n",
    "Therefore:\n",
    "\n",
    "$$\n",
    "\\text{Total Parameters} = (4hi + 4h^2 + 8h) + o(h + 1)\n",
    "$$\n",
    "\n",
    "Or more compactly:\n",
    "\n",
    "$$\n",
    "\\boxed{\\text{Total Parameters} = 4hi + 4h^2 + 8h + o(h + 1)}\n",
    "$$\n",
    "\n",
    "---\n"
   ]
  },
  {
   "cell_type": "markdown",
   "id": "e958d7b7-41d4-4753-99c0-42ae9303be61",
   "metadata": {},
   "source": [
    "## Designing a 2-Layer LSTM Under a 36 KB Memory Constraint\n",
    "\n",
    "Given an output dimension of $10$ (representing 10 classes or digits) and an input dimension of $13$ (corresponding to 13 MFCC coefficients per time step), the total number of parameters in the model reduces to the following quadratic expression:\n",
    "\n",
    "$$\n",
    "\\text{Total Parameters} = 12h^2 + 78h + 10\n",
    "$$\n",
    "\n",
    "Here, $ h $ (the hidden dimension) remains the only variable we need to solve for.\n",
    "\n",
    "Since the memory constraint allows for a maximum of \\textbf{9,216 parameters}, the hidden dimension must satisfy:\n",
    "\n",
    "$$\n",
    "12h^2 + 78h + 10 \\leq 9216\n",
    "$$\n",
    "\n",
    "The maximum valid integer value of $ h $ that satisfies the inequality is:\n",
    "$$\n",
    "h = 24\n",
    "$$\n",
    "\n",
    "---"
   ]
  },
  {
   "cell_type": "markdown",
   "id": "533f7c9b-69cc-4239-837f-c1c82e9f3695",
   "metadata": {},
   "source": [
    "## LSTM Model Definition\n",
    "\n",
    "A simple `n`-layer LSTM followed by a fully connected output layer. Variable `n` is defined in the configuration YAML file"
   ]
  },
  {
   "cell_type": "code",
   "execution_count": 18,
   "id": "92bbbd4b-4632-472a-885e-2e07f1894c7d",
   "metadata": {},
   "outputs": [],
   "source": [
    "import src.model as model_with_constraints\n",
    "\n",
    "hidden_dim = 24\n",
    "memory_constraint_model = model_with_constraints.LSTMClassifier(input_dim=input_dim,\n",
    "                                           hidden_dim=hidden_dim,\n",
    "                                           num_layers=num_layers,\n",
    "                                           output_dim=output_dim).to(device)"
   ]
  },
  {
   "cell_type": "markdown",
   "id": "c8b334d1-1991-454e-9b55-4621c7c63362",
   "metadata": {},
   "source": [
    "## Training Loop"
   ]
  },
  {
   "cell_type": "code",
   "execution_count": 19,
   "id": "3b4bcea8-c7ff-46d4-b391-78c08e05adaa",
   "metadata": {},
   "outputs": [],
   "source": [
    "learning_rate = model_config['training']['learning_rate']\n",
    "epochs = model_config['training']['epochs']"
   ]
  },
  {
   "cell_type": "code",
   "execution_count": 20,
   "id": "bf734e3a-c8ec-4df5-98e8-22a38e69674e",
   "metadata": {},
   "outputs": [],
   "source": [
    "from src.train import ModelTrainer\n",
    "trainer_instance_2 = ModelTrainer(\n",
    "    memory_constraint_model, \n",
    "    epochs,\n",
    "    train_loader,\n",
    "    device,\n",
    "    learning_rate\n",
    ")"
   ]
  },
  {
   "cell_type": "code",
   "execution_count": 21,
   "id": "16108f19-ba8a-42ee-85fd-d8b9dc257643",
   "metadata": {},
   "outputs": [
    {
     "name": "stdout",
     "output_type": "stream",
     "text": [
      "Epoch [1/20], Loss: 171.4266, Accuracy: 26.54%\n",
      "Epoch [2/20], Loss: 136.4815, Accuracy: 48.58%\n",
      "Epoch [3/20], Loss: 99.6908, Accuracy: 58.12%\n",
      "Epoch [4/20], Loss: 86.6863, Accuracy: 63.04%\n",
      "Epoch [5/20], Loss: 73.5414, Accuracy: 70.42%\n",
      "Epoch [6/20], Loss: 68.6883, Accuracy: 71.54%\n",
      "Epoch [7/20], Loss: 62.5110, Accuracy: 71.00%\n",
      "Epoch [8/20], Loss: 55.6682, Accuracy: 78.33%\n",
      "Epoch [9/20], Loss: 47.1418, Accuracy: 84.04%\n",
      "Epoch [10/20], Loss: 48.2762, Accuracy: 85.00%\n",
      "Epoch [11/20], Loss: 41.0196, Accuracy: 87.62%\n",
      "Epoch [12/20], Loss: 34.3845, Accuracy: 88.96%\n",
      "Epoch [13/20], Loss: 31.9757, Accuracy: 87.25%\n",
      "Epoch [14/20], Loss: 29.9293, Accuracy: 90.00%\n",
      "Epoch [15/20], Loss: 31.3984, Accuracy: 89.71%\n",
      "Epoch [16/20], Loss: 26.2656, Accuracy: 92.17%\n",
      "Epoch [17/20], Loss: 24.9169, Accuracy: 92.67%\n",
      "Epoch [18/20], Loss: 23.2875, Accuracy: 92.67%\n",
      "Epoch [19/20], Loss: 21.0122, Accuracy: 95.00%\n",
      "Epoch [20/20], Loss: 17.6823, Accuracy: 95.54%\n"
     ]
    }
   ],
   "source": [
    "trainer_instance_2.train()"
   ]
  },
  {
   "cell_type": "code",
   "execution_count": 22,
   "id": "6ad2f6cf-3eb9-48c2-9152-7843f556a770",
   "metadata": {},
   "outputs": [
    {
     "name": "stdout",
     "output_type": "stream",
     "text": [
      "\n",
      "Layer-wise parameter counts:\n",
      "lstm.weight_ih_l0              -> 1,248 params\n",
      "lstm.weight_hh_l0              -> 2,304 params\n",
      "lstm.bias_ih_l0                -> 96 params\n",
      "lstm.bias_hh_l0                -> 96 params\n",
      "lstm.weight_ih_l1              -> 2,304 params\n",
      "lstm.weight_hh_l1              -> 2,304 params\n",
      "lstm.bias_ih_l1                -> 96 params\n",
      "lstm.bias_hh_l1                -> 96 params\n",
      "fc.weight                      -> 240 params\n",
      "fc.bias                        -> 10 params\n",
      "\n",
      "\n",
      " Total Parameters: 8,794\n",
      "Estimated Memory: 34.35 KB (0.03 MB)\n"
     ]
    }
   ],
   "source": [
    "_, _ = utils.get_model_params_size(memory_constraint_model)"
   ]
  },
  {
   "cell_type": "markdown",
   "id": "5a6dc458-588d-4fc1-8809-ae874cbf3259",
   "metadata": {},
   "source": [
    "## Evaluation & Visualization"
   ]
  },
  {
   "cell_type": "code",
   "execution_count": 18,
   "id": "7bace95f-b096-4648-baf2-2bdc0375f9bc",
   "metadata": {},
   "outputs": [],
   "source": [
    "from src.evaluate import ModelEvaluator"
   ]
  },
  {
   "cell_type": "code",
   "execution_count": 19,
   "id": "91968fee-a54e-40ba-a2ed-1ba2d1039615",
   "metadata": {},
   "outputs": [],
   "source": [
    "test_instance_2 = ModelEvaluator(\n",
    "    memory_constraint_model, \n",
    "    test_loader,\n",
    "    device\n",
    ")"
   ]
  },
  {
   "cell_type": "code",
   "execution_count": 20,
   "id": "4352fe35-66bc-4cf1-8bd3-d129e20617e8",
   "metadata": {},
   "outputs": [
    {
     "name": "stdout",
     "output_type": "stream",
     "text": [
      "\n",
      " Accuracy on test data: 91.33%\n",
      "\n",
      " Classification Report:\n",
      "              precision    recall  f1-score   support\n",
      "\n",
      "           0     0.9388    0.8846    0.9109        52\n",
      "           1     0.9062    0.8923    0.8992        65\n",
      "           2     0.8696    0.9524    0.9091        63\n",
      "           3     0.9016    0.9167    0.9091        60\n",
      "           4     1.0000    0.9636    0.9815        55\n",
      "           5     0.8065    0.9434    0.8696        53\n",
      "           6     0.8955    0.9231    0.9091        65\n",
      "           7     0.9107    0.8644    0.8870        59\n",
      "           8     0.9500    0.9344    0.9421        61\n",
      "           9     0.9831    0.8657    0.9206        67\n",
      "\n",
      "    accuracy                         0.9133       600\n",
      "   macro avg     0.9162    0.9141    0.9138       600\n",
      "weighted avg     0.9168    0.9133    0.9138       600\n",
      "\n",
      "\n",
      " Confusion Matrix:\n",
      "[[46  0  5  0  0  0  0  1  0  0]\n",
      " [ 0 58  2  0  0  2  0  3  0  0]\n",
      " [ 2  0 60  1  0  0  0  0  0  0]\n",
      " [ 0  0  0 55  0  0  5  0  0  0]\n",
      " [ 0  2  0  0 53  0  0  0  0  0]\n",
      " [ 0  1  0  0  0 50  0  1  0  1]\n",
      " [ 0  0  0  2  0  0 60  0  3  0]\n",
      " [ 0  3  1  1  0  3  0 51  0  0]\n",
      " [ 0  0  0  2  0  0  2  0 57  0]\n",
      " [ 1  0  1  0  0  7  0  0  0 58]]\n"
     ]
    }
   ],
   "source": [
    "test_instance_2.evaluate()"
   ]
  },
  {
   "cell_type": "code",
   "execution_count": 21,
   "id": "418b8710-1ae6-469e-8282-f0acbd8326d4",
   "metadata": {},
   "outputs": [],
   "source": [
    "memory_constraint_model_save_path = os.path.join(project_root_dir, 'outputs', 'models', 'task-b-part-1_weights.pth')\n",
    "torch.save(memory_constraint_model.state_dict(), memory_constraint_model_save_path)"
   ]
  },
  {
   "cell_type": "code",
   "execution_count": null,
   "id": "9bb2e46b-9a22-4ea2-9fb5-4fbc4c592b73",
   "metadata": {},
   "outputs": [],
   "source": []
  }
 ],
 "metadata": {
  "kernelspec": {
   "display_name": "Python (spectgramer)",
   "language": "python",
   "name": "innatera-kernel"
  },
  "language_info": {
   "codemirror_mode": {
    "name": "ipython",
    "version": 3
   },
   "file_extension": ".py",
   "mimetype": "text/x-python",
   "name": "python",
   "nbconvert_exporter": "python",
   "pygments_lexer": "ipython3",
   "version": "3.10.12"
  }
 },
 "nbformat": 4,
 "nbformat_minor": 5
}
